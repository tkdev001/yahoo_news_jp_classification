{
  "nbformat": 4,
  "nbformat_minor": 0,
  "metadata": {
    "colab": {
      "provenance": []
    },
    "kernelspec": {
      "name": "python3",
      "display_name": "Python 3"
    },
    "language_info": {
      "name": "python"
    }
  },
  "cells": [
    {
      "cell_type": "markdown",
      "source": [
        "# DTSA 5510 Unsupervised Algorithms in Machine Learning - Final Project"
      ],
      "metadata": {
        "id": "gupOGuFqVKlc"
      }
    },
    {
      "cell_type": "markdown",
      "source": [
        "Github: https://github.com/tkdev001/yahoo_news_jp_classification"
      ],
      "metadata": {
        "id": "I_eTLfYzVSTi"
      }
    },
    {
      "cell_type": "markdown",
      "source": [
        "## 1. Introduction"
      ],
      "metadata": {
        "id": "r3MCqO_NVWAZ"
      }
    },
    {
      "cell_type": "markdown",
      "source": [
        "The motivation of this project is to apply machine learning techniques to classify topics for Japanese news articles. For unsupervised algorithms, **k-means clustering**, **hierarchical clustering**, and **non-negative matrix factorization** (NMF) will be used. **Random forest** will also be used for comparison."
      ],
      "metadata": {
        "id": "M2vce-ddXUou"
      }
    },
    {
      "cell_type": "markdown",
      "source": [
        "Major tasks of this project including:\n",
        "\n",
        "*   Data collection\n",
        "*   Exploratory data analysis\n",
        "*   Data pre-processing\n",
        "*   Model fitting, evaluation, analysis"
      ],
      "metadata": {
        "id": "cqyQG2lIn3KJ"
      }
    },
    {
      "cell_type": "markdown",
      "source": [
        "### Prerequisite installation"
      ],
      "metadata": {
        "id": "UEo2V40c5Pvw"
      }
    },
    {
      "cell_type": "code",
      "source": [
        "!apt install aptitude swig\n",
        "!aptitude install mecab libmecab-dev mecab-ipadic-utf8\n",
        "!pip install mecab-python3\n",
        "!pip install mojimoji"
      ],
      "metadata": {
        "colab": {
          "base_uri": "https://localhost:8080/"
        },
        "id": "h-Scg7joq3uS",
        "outputId": "f5c18c46-f75e-4116-a365-41a39d6af32f"
      },
      "execution_count": null,
      "outputs": [
        {
          "output_type": "stream",
          "name": "stdout",
          "text": [
            "Reading package lists... Done\n",
            "Building dependency tree       \n",
            "Reading state information... Done\n",
            "The following additional packages will be installed:\n",
            "  aptitude-common libcgi-fast-perl libcgi-pm-perl libclass-accessor-perl\n",
            "  libcwidget4 libencode-locale-perl libfcgi-perl libhtml-parser-perl\n",
            "  libhtml-tagset-perl libhttp-date-perl libhttp-message-perl libio-html-perl\n",
            "  libio-string-perl liblwp-mediatypes-perl libparse-debianchangelog-perl\n",
            "  libsigc++-2.0-0v5 libsub-name-perl liburi-perl libxapian30 swig4.0\n",
            "Suggested packages:\n",
            "  aptitude-doc-en | aptitude-doc apt-xapian-index debtags tasksel\n",
            "  libcwidget-dev libdata-dump-perl libhtml-template-perl libxml-simple-perl\n",
            "  libwww-perl xapian-tools swig-doc swig-examples swig4.0-examples swig4.0-doc\n",
            "The following NEW packages will be installed:\n",
            "  aptitude aptitude-common libcgi-fast-perl libcgi-pm-perl\n",
            "  libclass-accessor-perl libcwidget4 libencode-locale-perl libfcgi-perl\n",
            "  libhtml-parser-perl libhtml-tagset-perl libhttp-date-perl\n",
            "  libhttp-message-perl libio-html-perl libio-string-perl\n",
            "  liblwp-mediatypes-perl libparse-debianchangelog-perl libsigc++-2.0-0v5\n",
            "  libsub-name-perl liburi-perl libxapian30 swig swig4.0\n",
            "0 upgraded, 22 newly installed, 0 to remove and 19 not upgraded.\n",
            "Need to get 5,732 kB of archives.\n",
            "After this operation, 26.3 MB of additional disk space will be used.\n",
            "Get:1 http://archive.ubuntu.com/ubuntu focal/universe amd64 aptitude-common all 0.8.12-1ubuntu4 [1,711 kB]\n",
            "Get:2 http://archive.ubuntu.com/ubuntu focal/main amd64 libsigc++-2.0-0v5 amd64 2.10.2-1build1 [11.7 kB]\n",
            "Get:3 http://archive.ubuntu.com/ubuntu focal/universe amd64 libcwidget4 amd64 0.5.18-5build1 [306 kB]\n",
            "Get:4 http://archive.ubuntu.com/ubuntu focal/universe amd64 libxapian30 amd64 1.4.14-2 [661 kB]\n",
            "Get:5 http://archive.ubuntu.com/ubuntu focal/universe amd64 aptitude amd64 0.8.12-1ubuntu4 [1,323 kB]\n",
            "Get:6 http://archive.ubuntu.com/ubuntu focal/main amd64 libhtml-tagset-perl all 3.20-4 [12.5 kB]\n",
            "Get:7 http://archive.ubuntu.com/ubuntu focal/main amd64 liburi-perl all 1.76-2 [77.5 kB]\n",
            "Get:8 http://archive.ubuntu.com/ubuntu focal/main amd64 libhtml-parser-perl amd64 3.72-5 [86.3 kB]\n",
            "Get:9 http://archive.ubuntu.com/ubuntu focal/main amd64 libcgi-pm-perl all 4.46-1 [186 kB]\n",
            "Get:10 http://archive.ubuntu.com/ubuntu focal/main amd64 libfcgi-perl amd64 0.79-1 [33.1 kB]\n",
            "Get:11 http://archive.ubuntu.com/ubuntu focal/main amd64 libcgi-fast-perl all 1:2.15-1 [10.5 kB]\n",
            "Get:12 http://archive.ubuntu.com/ubuntu focal/main amd64 libsub-name-perl amd64 0.26-1 [11.5 kB]\n",
            "Get:13 http://archive.ubuntu.com/ubuntu focal/universe amd64 libclass-accessor-perl all 0.51-1 [21.2 kB]\n",
            "Get:14 http://archive.ubuntu.com/ubuntu focal/main amd64 libencode-locale-perl all 1.05-1 [12.3 kB]\n",
            "Get:15 http://archive.ubuntu.com/ubuntu focal/main amd64 libhttp-date-perl all 6.05-1 [9,920 B]\n",
            "Get:16 http://archive.ubuntu.com/ubuntu focal/main amd64 libio-html-perl all 1.001-1 [14.9 kB]\n",
            "Get:17 http://archive.ubuntu.com/ubuntu focal/main amd64 liblwp-mediatypes-perl all 6.04-1 [19.5 kB]\n",
            "Get:18 http://archive.ubuntu.com/ubuntu focal/main amd64 libhttp-message-perl all 6.22-1 [76.1 kB]\n",
            "Get:19 http://archive.ubuntu.com/ubuntu focal/main amd64 libio-string-perl all 1.08-3 [11.1 kB]\n",
            "Get:20 http://archive.ubuntu.com/ubuntu focal/universe amd64 libparse-debianchangelog-perl all 1.2.0-13 [49.7 kB]\n",
            "Get:21 http://archive.ubuntu.com/ubuntu focal/universe amd64 swig4.0 amd64 4.0.1-5build1 [1,081 kB]\n",
            "Get:22 http://archive.ubuntu.com/ubuntu focal/universe amd64 swig all 4.0.1-5build1 [5,528 B]\n",
            "Fetched 5,732 kB in 4s (1,534 kB/s)\n",
            "Selecting previously unselected package aptitude-common.\n",
            "(Reading database ... 128208 files and directories currently installed.)\n",
            "Preparing to unpack .../00-aptitude-common_0.8.12-1ubuntu4_all.deb ...\n",
            "Unpacking aptitude-common (0.8.12-1ubuntu4) ...\n",
            "Selecting previously unselected package libsigc++-2.0-0v5:amd64.\n",
            "Preparing to unpack .../01-libsigc++-2.0-0v5_2.10.2-1build1_amd64.deb ...\n",
            "Unpacking libsigc++-2.0-0v5:amd64 (2.10.2-1build1) ...\n",
            "Selecting previously unselected package libcwidget4:amd64.\n",
            "Preparing to unpack .../02-libcwidget4_0.5.18-5build1_amd64.deb ...\n",
            "Unpacking libcwidget4:amd64 (0.5.18-5build1) ...\n",
            "Selecting previously unselected package libxapian30:amd64.\n",
            "Preparing to unpack .../03-libxapian30_1.4.14-2_amd64.deb ...\n",
            "Unpacking libxapian30:amd64 (1.4.14-2) ...\n",
            "Selecting previously unselected package aptitude.\n",
            "Preparing to unpack .../04-aptitude_0.8.12-1ubuntu4_amd64.deb ...\n",
            "Unpacking aptitude (0.8.12-1ubuntu4) ...\n",
            "Selecting previously unselected package libhtml-tagset-perl.\n",
            "Preparing to unpack .../05-libhtml-tagset-perl_3.20-4_all.deb ...\n",
            "Unpacking libhtml-tagset-perl (3.20-4) ...\n",
            "Selecting previously unselected package liburi-perl.\n",
            "Preparing to unpack .../06-liburi-perl_1.76-2_all.deb ...\n",
            "Unpacking liburi-perl (1.76-2) ...\n",
            "Selecting previously unselected package libhtml-parser-perl.\n",
            "Preparing to unpack .../07-libhtml-parser-perl_3.72-5_amd64.deb ...\n",
            "Unpacking libhtml-parser-perl (3.72-5) ...\n",
            "Selecting previously unselected package libcgi-pm-perl.\n",
            "Preparing to unpack .../08-libcgi-pm-perl_4.46-1_all.deb ...\n",
            "Unpacking libcgi-pm-perl (4.46-1) ...\n",
            "Selecting previously unselected package libfcgi-perl.\n",
            "Preparing to unpack .../09-libfcgi-perl_0.79-1_amd64.deb ...\n",
            "Unpacking libfcgi-perl (0.79-1) ...\n",
            "Selecting previously unselected package libcgi-fast-perl.\n",
            "Preparing to unpack .../10-libcgi-fast-perl_1%3a2.15-1_all.deb ...\n",
            "Unpacking libcgi-fast-perl (1:2.15-1) ...\n",
            "Selecting previously unselected package libsub-name-perl.\n",
            "Preparing to unpack .../11-libsub-name-perl_0.26-1_amd64.deb ...\n",
            "Unpacking libsub-name-perl (0.26-1) ...\n",
            "Selecting previously unselected package libclass-accessor-perl.\n",
            "Preparing to unpack .../12-libclass-accessor-perl_0.51-1_all.deb ...\n",
            "Unpacking libclass-accessor-perl (0.51-1) ...\n",
            "Selecting previously unselected package libencode-locale-perl.\n",
            "Preparing to unpack .../13-libencode-locale-perl_1.05-1_all.deb ...\n",
            "Unpacking libencode-locale-perl (1.05-1) ...\n",
            "Selecting previously unselected package libhttp-date-perl.\n",
            "Preparing to unpack .../14-libhttp-date-perl_6.05-1_all.deb ...\n",
            "Unpacking libhttp-date-perl (6.05-1) ...\n",
            "Selecting previously unselected package libio-html-perl.\n",
            "Preparing to unpack .../15-libio-html-perl_1.001-1_all.deb ...\n",
            "Unpacking libio-html-perl (1.001-1) ...\n",
            "Selecting previously unselected package liblwp-mediatypes-perl.\n",
            "Preparing to unpack .../16-liblwp-mediatypes-perl_6.04-1_all.deb ...\n",
            "Unpacking liblwp-mediatypes-perl (6.04-1) ...\n",
            "Selecting previously unselected package libhttp-message-perl.\n",
            "Preparing to unpack .../17-libhttp-message-perl_6.22-1_all.deb ...\n",
            "Unpacking libhttp-message-perl (6.22-1) ...\n",
            "Selecting previously unselected package libio-string-perl.\n",
            "Preparing to unpack .../18-libio-string-perl_1.08-3_all.deb ...\n",
            "Unpacking libio-string-perl (1.08-3) ...\n",
            "Selecting previously unselected package libparse-debianchangelog-perl.\n",
            "Preparing to unpack .../19-libparse-debianchangelog-perl_1.2.0-13_all.deb ...\n",
            "Unpacking libparse-debianchangelog-perl (1.2.0-13) ...\n",
            "Selecting previously unselected package swig4.0.\n",
            "Preparing to unpack .../20-swig4.0_4.0.1-5build1_amd64.deb ...\n",
            "Unpacking swig4.0 (4.0.1-5build1) ...\n",
            "Selecting previously unselected package swig.\n",
            "Preparing to unpack .../21-swig_4.0.1-5build1_all.deb ...\n",
            "Unpacking swig (4.0.1-5build1) ...\n",
            "Setting up libxapian30:amd64 (1.4.14-2) ...\n",
            "Setting up libhttp-date-perl (6.05-1) ...\n",
            "Setting up libhtml-tagset-perl (3.20-4) ...\n",
            "Setting up liblwp-mediatypes-perl (6.04-1) ...\n",
            "Setting up libencode-locale-perl (1.05-1) ...\n",
            "Setting up libio-string-perl (1.08-3) ...\n",
            "Setting up libsigc++-2.0-0v5:amd64 (2.10.2-1build1) ...\n",
            "Setting up aptitude-common (0.8.12-1ubuntu4) ...\n",
            "Setting up libio-html-perl (1.001-1) ...\n",
            "Setting up libsub-name-perl (0.26-1) ...\n",
            "Setting up libfcgi-perl (0.79-1) ...\n",
            "Setting up libclass-accessor-perl (0.51-1) ...\n",
            "Setting up swig4.0 (4.0.1-5build1) ...\n",
            "Setting up liburi-perl (1.76-2) ...\n",
            "Setting up libhttp-message-perl (6.22-1) ...\n",
            "Setting up swig (4.0.1-5build1) ...\n",
            "Setting up libcwidget4:amd64 (0.5.18-5build1) ...\n",
            "Setting up aptitude (0.8.12-1ubuntu4) ...\n",
            "update-alternatives: using /usr/bin/aptitude-curses to provide /usr/bin/aptitude (aptitude) in auto mode\n",
            "Setting up libhtml-parser-perl (3.72-5) ...\n",
            "Setting up libcgi-pm-perl (4.46-1) ...\n",
            "Setting up libparse-debianchangelog-perl (1.2.0-13) ...\n",
            "Setting up libcgi-fast-perl (1:2.15-1) ...\n",
            "Processing triggers for man-db (2.9.1-1) ...\n",
            "Processing triggers for libc-bin (2.31-0ubuntu9.9) ...\n",
            "The following NEW packages will be installed:\n",
            "  libmecab-dev libmecab2{a} mecab mecab-ipadic{a} mecab-ipadic-utf8 mecab-jumandic{a} mecab-jumandic-utf8{a} mecab-utils{a} \n",
            "0 packages upgraded, 8 newly installed, 0 to remove and 19 not upgraded.\n",
            "Need to get 23.5 MB of archives. After unpacking 276 MB will be used.\n",
            "Do you want to continue? [Y/n/?] Y\n",
            "Get: 1 http://archive.ubuntu.com/ubuntu focal/main amd64 libmecab2 amd64 0.996-10build1 [233 kB]\n",
            "Get: 2 http://archive.ubuntu.com/ubuntu focal/main amd64 libmecab-dev amd64 0.996-10build1 [285 kB]\n",
            "Get: 3 http://archive.ubuntu.com/ubuntu focal/main amd64 mecab-utils amd64 0.996-10build1 [4,912 B]\n",
            "Get: 4 http://archive.ubuntu.com/ubuntu focal/universe amd64 mecab-jumandic-utf8 all 7.0-20130310-7 [16.2 MB]\n",
            "Get: 5 http://archive.ubuntu.com/ubuntu focal/universe amd64 mecab-jumandic all 7.0-20130310-7 [2,204 B]\n",
            "Get: 6 http://archive.ubuntu.com/ubuntu focal/main amd64 mecab-ipadic all 2.7.0-20070801+main-2.1 [6,714 kB]\n",
            "Get: 7 http://archive.ubuntu.com/ubuntu focal/universe amd64 mecab amd64 0.996-10build1 [132 kB]\n",
            "Get: 8 http://archive.ubuntu.com/ubuntu focal/main amd64 mecab-ipadic-utf8 all 2.7.0-20070801+main-2.1 [4,380 B]\n",
            "Fetched 23.5 MB in 3s (6,732 kB/s)\n",
            "Selecting previously unselected package libmecab2:amd64.\n",
            "(Reading database ... 129449 files and directories currently installed.)\n",
            "Preparing to unpack .../0-libmecab2_0.996-10build1_amd64.deb ...\n",
            "Unpacking libmecab2:amd64 (0.996-10build1) ...\n",
            "Selecting previously unselected package libmecab-dev.\n",
            "Preparing to unpack .../1-libmecab-dev_0.996-10build1_amd64.deb ...\n",
            "Unpacking libmecab-dev (0.996-10build1) ...\n",
            "Selecting previously unselected package mecab-utils.\n",
            "Preparing to unpack .../2-mecab-utils_0.996-10build1_amd64.deb ...\n",
            "Unpacking mecab-utils (0.996-10build1) ...\n",
            "Selecting previously unselected package mecab-jumandic-utf8.\n",
            "Preparing to unpack .../3-mecab-jumandic-utf8_7.0-20130310-7_all.deb ...\n",
            "Unpacking mecab-jumandic-utf8 (7.0-20130310-7) ...\n",
            "Selecting previously unselected package mecab-jumandic.\n",
            "Preparing to unpack .../4-mecab-jumandic_7.0-20130310-7_all.deb ...\n",
            "Unpacking mecab-jumandic (7.0-20130310-7) ...\n",
            "Selecting previously unselected package mecab-ipadic.\n",
            "Preparing to unpack .../5-mecab-ipadic_2.7.0-20070801+main-2.1_all.deb ...\n",
            "Unpacking mecab-ipadic (2.7.0-20070801+main-2.1) ...\n",
            "Selecting previously unselected package mecab.\n",
            "Preparing to unpack .../6-mecab_0.996-10build1_amd64.deb ...\n",
            "Unpacking mecab (0.996-10build1) ...\n",
            "Selecting previously unselected package mecab-ipadic-utf8.\n",
            "Preparing to unpack .../7-mecab-ipadic-utf8_2.7.0-20070801+main-2.1_all.deb ...\n",
            "Unpacking mecab-ipadic-utf8 (2.7.0-20070801+main-2.1) ...\n",
            "Setting up libmecab2:amd64 (0.996-10build1) ...\n",
            "Setting up libmecab-dev (0.996-10build1) ...\n",
            "Setting up mecab-utils (0.996-10build1) ...\n",
            "Setting up mecab-ipadic (2.7.0-20070801+main-2.1) ...\n",
            "Compiling IPA dictionary for Mecab.  This takes long time...\n",
            "reading /usr/share/mecab/dic/ipadic/unk.def ... 40\n",
            "emitting double-array: 100% |###########################################| \n",
            "/usr/share/mecab/dic/ipadic/model.def is not found. skipped.\n",
            "reading /usr/share/mecab/dic/ipadic/Noun.adverbal.csv ... 795\n",
            "reading /usr/share/mecab/dic/ipadic/Postp-col.csv ... 91\n",
            "reading /usr/share/mecab/dic/ipadic/Suffix.csv ... 1393\n",
            "reading /usr/share/mecab/dic/ipadic/Others.csv ... 2\n",
            "reading /usr/share/mecab/dic/ipadic/Noun.adjv.csv ... 3328\n",
            "reading /usr/share/mecab/dic/ipadic/Noun.others.csv ... 151\n",
            "reading /usr/share/mecab/dic/ipadic/Postp.csv ... 146\n",
            "reading /usr/share/mecab/dic/ipadic/Noun.nai.csv ... 42\n",
            "reading /usr/share/mecab/dic/ipadic/Noun.place.csv ... 72999\n",
            "reading /usr/share/mecab/dic/ipadic/Noun.verbal.csv ... 12146\n",
            "reading /usr/share/mecab/dic/ipadic/Interjection.csv ... 252\n",
            "reading /usr/share/mecab/dic/ipadic/Auxil.csv ... 199\n",
            "reading /usr/share/mecab/dic/ipadic/Filler.csv ... 19\n",
            "reading /usr/share/mecab/dic/ipadic/Noun.demonst.csv ... 120\n",
            "reading /usr/share/mecab/dic/ipadic/Adnominal.csv ... 135\n",
            "reading /usr/share/mecab/dic/ipadic/Conjunction.csv ... 171\n",
            "reading /usr/share/mecab/dic/ipadic/Adj.csv ... 27210\n",
            "reading /usr/share/mecab/dic/ipadic/Noun.org.csv ... 16668\n",
            "reading /usr/share/mecab/dic/ipadic/Adverb.csv ... 3032\n",
            "reading /usr/share/mecab/dic/ipadic/Noun.name.csv ... 34202\n",
            "reading /usr/share/mecab/dic/ipadic/Verb.csv ... 130750\n",
            "reading /usr/share/mecab/dic/ipadic/Symbol.csv ... 208\n",
            "reading /usr/share/mecab/dic/ipadic/Prefix.csv ... 221\n",
            "reading /usr/share/mecab/dic/ipadic/Noun.csv ... 60477\n",
            "reading /usr/share/mecab/dic/ipadic/Noun.number.csv ... 42\n",
            "reading /usr/share/mecab/dic/ipadic/Noun.proper.csv ... 27328\n",
            "emitting double-array: 100% |###########################################| \n",
            "reading /usr/share/mecab/dic/ipadic/matrix.def ... 1316x1316\n",
            "emitting matrix      : 100% |###########################################| \n",
            "\n",
            "done!\n",
            "update-alternatives: using /var/lib/mecab/dic/ipadic to provide /var/lib/mecab/dic/debian (mecab-dictionary) in auto mode\n",
            "Setting up mecab (0.996-10build1) ...\n",
            "Compiling IPA dictionary for Mecab.  This takes long time...\n",
            "reading /usr/share/mecab/dic/ipadic/unk.def ... 40\n",
            "emitting double-array: 100% |###########################################| \n",
            "/usr/share/mecab/dic/ipadic/model.def is not found. skipped.\n",
            "reading /usr/share/mecab/dic/ipadic/Noun.adverbal.csv ... 795\n",
            "reading /usr/share/mecab/dic/ipadic/Postp-col.csv ... 91\n",
            "reading /usr/share/mecab/dic/ipadic/Suffix.csv ... 1393\n",
            "reading /usr/share/mecab/dic/ipadic/Others.csv ... 2\n",
            "reading /usr/share/mecab/dic/ipadic/Noun.adjv.csv ... 3328\n",
            "reading /usr/share/mecab/dic/ipadic/Noun.others.csv ... 151\n",
            "reading /usr/share/mecab/dic/ipadic/Postp.csv ... 146\n",
            "reading /usr/share/mecab/dic/ipadic/Noun.nai.csv ... 42\n",
            "reading /usr/share/mecab/dic/ipadic/Noun.place.csv ... 72999\n",
            "reading /usr/share/mecab/dic/ipadic/Noun.verbal.csv ... 12146\n",
            "reading /usr/share/mecab/dic/ipadic/Interjection.csv ... 252\n",
            "reading /usr/share/mecab/dic/ipadic/Auxil.csv ... 199\n",
            "reading /usr/share/mecab/dic/ipadic/Filler.csv ... 19\n",
            "reading /usr/share/mecab/dic/ipadic/Noun.demonst.csv ... 120\n",
            "reading /usr/share/mecab/dic/ipadic/Adnominal.csv ... 135\n",
            "reading /usr/share/mecab/dic/ipadic/Conjunction.csv ... 171\n",
            "reading /usr/share/mecab/dic/ipadic/Adj.csv ... 27210\n",
            "reading /usr/share/mecab/dic/ipadic/Noun.org.csv ... 16668\n",
            "reading /usr/share/mecab/dic/ipadic/Adverb.csv ... 3032\n",
            "reading /usr/share/mecab/dic/ipadic/Noun.name.csv ... 34202\n",
            "reading /usr/share/mecab/dic/ipadic/Verb.csv ... 130750\n",
            "reading /usr/share/mecab/dic/ipadic/Symbol.csv ... 208\n",
            "reading /usr/share/mecab/dic/ipadic/Prefix.csv ... 221\n",
            "reading /usr/share/mecab/dic/ipadic/Noun.csv ... 60477\n",
            "reading /usr/share/mecab/dic/ipadic/Noun.number.csv ... 42\n",
            "reading /usr/share/mecab/dic/ipadic/Noun.proper.csv ... 27328\n",
            "emitting double-array: 100% |###########################################| \n",
            "reading /usr/share/mecab/dic/ipadic/matrix.def ... 1316x1316\n",
            "emitting matrix      : 100% |###########################################| \n",
            "\n",
            "done!\n",
            "Setting up mecab-jumandic-utf8 (7.0-20130310-7) ...\n",
            "Compiling Juman dictionary for Mecab.\n",
            "reading /usr/share/mecab/dic/juman/unk.def ... 37\n",
            "emitting double-array: 100% |###########################################| \n",
            "reading /usr/share/mecab/dic/juman/Noun.keishiki.csv ... 8\n",
            "reading /usr/share/mecab/dic/juman/Suffix.csv ... 2128\n",
            "reading /usr/share/mecab/dic/juman/Noun.koyuu.csv ... 7964\n",
            "reading /usr/share/mecab/dic/juman/ContentW.csv ... 551145\n",
            "reading /usr/share/mecab/dic/juman/Demonstrative.csv ... 97\n",
            "reading /usr/share/mecab/dic/juman/Emoticon.csv ... 972\n",
            "reading /usr/share/mecab/dic/juman/Assert.csv ... 34\n",
            "reading /usr/share/mecab/dic/juman/Postp.csv ... 108\n",
            "reading /usr/share/mecab/dic/juman/Noun.hukusi.csv ... 81\n",
            "reading /usr/share/mecab/dic/juman/Rengo.csv ... 1118\n",
            "reading /usr/share/mecab/dic/juman/Special.csv ... 158\n",
            "reading /usr/share/mecab/dic/juman/Wikipedia.csv ... 167709\n",
            "reading /usr/share/mecab/dic/juman/Prefix.csv ... 90\n",
            "reading /usr/share/mecab/dic/juman/AuxV.csv ... 593\n",
            "reading /usr/share/mecab/dic/juman/Auto.csv ... 18931\n",
            "reading /usr/share/mecab/dic/juman/Noun.suusi.csv ... 49\n",
            "emitting double-array: 100% |###########################################| \n",
            "reading /usr/share/mecab/dic/juman/matrix.def ... 1876x1876\n",
            "emitting matrix      : 100% |###########################################| \n",
            "\n",
            "done!\n",
            "Setting up mecab-ipadic-utf8 (2.7.0-20070801+main-2.1) ...\n",
            "Compiling IPA dictionary for Mecab.  This takes long time...\n",
            "reading /usr/share/mecab/dic/ipadic/unk.def ... 40\n",
            "emitting double-array: 100% |###########################################| \n",
            "/usr/share/mecab/dic/ipadic/model.def is not found. skipped.\n",
            "reading /usr/share/mecab/dic/ipadic/Noun.adverbal.csv ... 795\n",
            "reading /usr/share/mecab/dic/ipadic/Postp-col.csv ... 91\n",
            "reading /usr/share/mecab/dic/ipadic/Suffix.csv ... 1393\n",
            "reading /usr/share/mecab/dic/ipadic/Others.csv ... 2\n",
            "reading /usr/share/mecab/dic/ipadic/Noun.adjv.csv ... 3328\n",
            "reading /usr/share/mecab/dic/ipadic/Noun.others.csv ... 151\n",
            "reading /usr/share/mecab/dic/ipadic/Postp.csv ... 146\n",
            "reading /usr/share/mecab/dic/ipadic/Noun.nai.csv ... 42\n",
            "reading /usr/share/mecab/dic/ipadic/Noun.place.csv ... 72999\n",
            "reading /usr/share/mecab/dic/ipadic/Noun.verbal.csv ... 12146\n",
            "reading /usr/share/mecab/dic/ipadic/Interjection.csv ... 252\n",
            "reading /usr/share/mecab/dic/ipadic/Auxil.csv ... 199\n",
            "reading /usr/share/mecab/dic/ipadic/Filler.csv ... 19\n",
            "reading /usr/share/mecab/dic/ipadic/Noun.demonst.csv ... 120\n",
            "reading /usr/share/mecab/dic/ipadic/Adnominal.csv ... 135\n",
            "reading /usr/share/mecab/dic/ipadic/Conjunction.csv ... 171\n",
            "reading /usr/share/mecab/dic/ipadic/Adj.csv ... 27210\n",
            "reading /usr/share/mecab/dic/ipadic/Noun.org.csv ... 16668\n",
            "reading /usr/share/mecab/dic/ipadic/Adverb.csv ... 3032\n",
            "reading /usr/share/mecab/dic/ipadic/Noun.name.csv ... 34202\n",
            "reading /usr/share/mecab/dic/ipadic/Verb.csv ... 130750\n",
            "reading /usr/share/mecab/dic/ipadic/Symbol.csv ... 208\n",
            "reading /usr/share/mecab/dic/ipadic/Prefix.csv ... 221\n",
            "reading /usr/share/mecab/dic/ipadic/Noun.csv ... 60477\n",
            "reading /usr/share/mecab/dic/ipadic/Noun.number.csv ... 42\n",
            "reading /usr/share/mecab/dic/ipadic/Noun.proper.csv ... 27328\n",
            "emitting double-array: 100% |###########################################| \n",
            "reading /usr/share/mecab/dic/ipadic/matrix.def ... 1316x1316\n",
            "emitting matrix      : 100% |###########################################| \n",
            "\n",
            "done!\n",
            "update-alternatives: using /var/lib/mecab/dic/ipadic-utf8 to provide /var/lib/mecab/dic/debian (mecab-dictionary) in auto mode\n",
            "Setting up mecab-jumandic (7.0-20130310-7) ...\n",
            "Processing triggers for man-db (2.9.1-1) ...\n",
            "Processing triggers for libc-bin (2.31-0ubuntu9.9) ...\n",
            "                            \n",
            "Looking in indexes: https://pypi.org/simple, https://us-python.pkg.dev/colab-wheels/public/simple/\n",
            "Collecting mecab-python3\n",
            "  Downloading mecab_python3-1.0.6-cp38-cp38-manylinux_2_17_x86_64.manylinux2014_x86_64.whl (577 kB)\n",
            "\u001b[2K     \u001b[90m━━━━━━━━━━━━━━━━━━━━━━━━━━━━━━━━━━━━━━━\u001b[0m \u001b[32m577.8/577.8 KB\u001b[0m \u001b[31m8.7 MB/s\u001b[0m eta \u001b[36m0:00:00\u001b[0m\n",
            "\u001b[?25hInstalling collected packages: mecab-python3\n",
            "Successfully installed mecab-python3-1.0.6\n",
            "Looking in indexes: https://pypi.org/simple, https://us-python.pkg.dev/colab-wheels/public/simple/\n",
            "Collecting mojimoji\n",
            "  Downloading mojimoji-0.0.12-cp38-cp38-manylinux_2_17_x86_64.manylinux2014_x86_64.whl (128 kB)\n",
            "\u001b[2K     \u001b[90m━━━━━━━━━━━━━━━━━━━━━━━━━━━━━━━━━━━━━━━\u001b[0m \u001b[32m128.3/128.3 KB\u001b[0m \u001b[31m3.3 MB/s\u001b[0m eta \u001b[36m0:00:00\u001b[0m\n",
            "\u001b[?25hInstalling collected packages: mojimoji\n",
            "Successfully installed mojimoji-0.0.12\n"
          ]
        }
      ]
    },
    {
      "cell_type": "code",
      "source": [
        "!git clone --depth 1 https://github.com/neologd/mecab-ipadic-neologd.git\n",
        "!./mecab-ipadic-neologd/bin/install-mecab-ipadic-neologd -n -a -y\n",
        "\n",
        "!ln -s /etc/mecabrc /usr/local/etc/mecabrc"
      ],
      "metadata": {
        "colab": {
          "base_uri": "https://localhost:8080/"
        },
        "id": "f_D3dPrYxyq1",
        "outputId": "9deeacad-3664-478f-856f-a2363380fc16"
      },
      "execution_count": null,
      "outputs": [
        {
          "output_type": "stream",
          "name": "stdout",
          "text": [
            "Cloning into 'mecab-ipadic-neologd'...\n",
            "remote: Enumerating objects: 75, done.\u001b[K\n",
            "remote: Counting objects: 100% (75/75), done.\u001b[K\n",
            "remote: Compressing objects: 100% (74/74), done.\u001b[K\n",
            "remote: Total 75 (delta 5), reused 54 (delta 0), pack-reused 0\u001b[K\n",
            "Unpacking objects: 100% (75/75), 58.09 MiB | 8.81 MiB/s, done.\n",
            "[install-mecab-ipadic-NEologd] : Start..\n",
            "[install-mecab-ipadic-NEologd] : Check the existance of libraries\n",
            "[install-mecab-ipadic-NEologd] :     find => ok\n",
            "[install-mecab-ipadic-NEologd] :     sort => ok\n",
            "[install-mecab-ipadic-NEologd] :     head => ok\n",
            "[install-mecab-ipadic-NEologd] :     cut => ok\n",
            "[install-mecab-ipadic-NEologd] :     egrep => ok\n",
            "[install-mecab-ipadic-NEologd] :     mecab => ok\n",
            "[install-mecab-ipadic-NEologd] :     mecab-config => ok\n",
            "[install-mecab-ipadic-NEologd] :     make => ok\n",
            "[install-mecab-ipadic-NEologd] :     curl => ok\n",
            "[install-mecab-ipadic-NEologd] :     sed => ok\n",
            "[install-mecab-ipadic-NEologd] :     cat => ok\n",
            "[install-mecab-ipadic-NEologd] :     diff => ok\n",
            "[install-mecab-ipadic-NEologd] :     tar => ok\n",
            "[install-mecab-ipadic-NEologd] :     unxz => ok\n",
            "[install-mecab-ipadic-NEologd] :     xargs => ok\n",
            "[install-mecab-ipadic-NEologd] :     grep => ok\n",
            "[install-mecab-ipadic-NEologd] :     iconv => ok\n",
            "[install-mecab-ipadic-NEologd] :     patch => ok\n",
            "[install-mecab-ipadic-NEologd] :     which => ok\n",
            "[install-mecab-ipadic-NEologd] :     file => ok\n",
            "[install-mecab-ipadic-NEologd] :     openssl => ok\n",
            "[install-mecab-ipadic-NEologd] :     awk => ok\n",
            "\n",
            "[install-mecab-ipadic-NEologd] : mecab-ipadic-NEologd is already up-to-date\n",
            "\n",
            "[install-mecab-ipadic-NEologd] : mecab-ipadic-NEologd will be install to /usr/lib/x86_64-linux-gnu/mecab/dic/mecab-ipadic-neologd\n",
            "\n",
            "[install-mecab-ipadic-NEologd] : Make mecab-ipadic-NEologd\n",
            "[make-mecab-ipadic-NEologd] : Start..\n",
            "[make-mecab-ipadic-NEologd] : Check local seed directory\n",
            "[make-mecab-ipadic-NEologd] : Check local seed file\n",
            "[make-mecab-ipadic-NEologd] : Check local build directory\n",
            "[make-mecab-ipadic-NEologd] : create /content/mecab-ipadic-neologd/libexec/../build\n",
            "[make-mecab-ipadic-NEologd] : Download original mecab-ipadic file\n",
            "[make-mecab-ipadic-NEologd] : Try to access to https://ja.osdn.net\n",
            "[make-mecab-ipadic-NEologd] : Try to download from https://ja.osdn.net/frs/g_redir.php?m=kent&f=mecab%2Fmecab-ipadic%2F2.7.0-20070801%2Fmecab-ipadic-2.7.0-20070801.tar.gz\n",
            "  % Total    % Received % Xferd  Average Speed   Time    Time     Time  Current\n",
            "                                 Dload  Upload   Total   Spent    Left  Speed\n",
            "  0     0    0     0    0     0      0      0 --:--:-- --:--:-- --:--:--     0\n",
            "100 11.6M  100 11.6M    0     0   247k      0  0:00:48  0:00:48 --:--:--  252k\n",
            "Hash value of /content/mecab-ipadic-neologd/libexec/../build/mecab-ipadic-2.7.0-20070801.tar.gz matched\n",
            "[make-mecab-ipadic-NEologd] : Decompress original mecab-ipadic file\n",
            "mecab-ipadic-2.7.0-20070801/\n",
            "mecab-ipadic-2.7.0-20070801/README\n",
            "mecab-ipadic-2.7.0-20070801/AUTHORS\n",
            "mecab-ipadic-2.7.0-20070801/COPYING\n",
            "mecab-ipadic-2.7.0-20070801/ChangeLog\n",
            "mecab-ipadic-2.7.0-20070801/INSTALL\n",
            "mecab-ipadic-2.7.0-20070801/Makefile.am\n",
            "mecab-ipadic-2.7.0-20070801/Makefile.in\n",
            "mecab-ipadic-2.7.0-20070801/NEWS\n",
            "mecab-ipadic-2.7.0-20070801/aclocal.m4\n",
            "mecab-ipadic-2.7.0-20070801/config.guess\n",
            "mecab-ipadic-2.7.0-20070801/config.sub\n",
            "mecab-ipadic-2.7.0-20070801/configure\n",
            "mecab-ipadic-2.7.0-20070801/configure.in\n",
            "mecab-ipadic-2.7.0-20070801/install-sh\n",
            "mecab-ipadic-2.7.0-20070801/missing\n",
            "mecab-ipadic-2.7.0-20070801/mkinstalldirs\n",
            "mecab-ipadic-2.7.0-20070801/Adj.csv\n",
            "mecab-ipadic-2.7.0-20070801/Adnominal.csv\n",
            "mecab-ipadic-2.7.0-20070801/Adverb.csv\n",
            "mecab-ipadic-2.7.0-20070801/Auxil.csv\n",
            "mecab-ipadic-2.7.0-20070801/Conjunction.csv\n",
            "mecab-ipadic-2.7.0-20070801/Filler.csv\n",
            "mecab-ipadic-2.7.0-20070801/Interjection.csv\n",
            "mecab-ipadic-2.7.0-20070801/Noun.adjv.csv\n",
            "mecab-ipadic-2.7.0-20070801/Noun.adverbal.csv\n",
            "mecab-ipadic-2.7.0-20070801/Noun.csv\n",
            "mecab-ipadic-2.7.0-20070801/Noun.demonst.csv\n",
            "mecab-ipadic-2.7.0-20070801/Noun.nai.csv\n",
            "mecab-ipadic-2.7.0-20070801/Noun.name.csv\n",
            "mecab-ipadic-2.7.0-20070801/Noun.number.csv\n",
            "mecab-ipadic-2.7.0-20070801/Noun.org.csv\n",
            "mecab-ipadic-2.7.0-20070801/Noun.others.csv\n",
            "mecab-ipadic-2.7.0-20070801/Noun.place.csv\n",
            "mecab-ipadic-2.7.0-20070801/Noun.proper.csv\n",
            "mecab-ipadic-2.7.0-20070801/Noun.verbal.csv\n",
            "mecab-ipadic-2.7.0-20070801/Others.csv\n",
            "mecab-ipadic-2.7.0-20070801/Postp-col.csv\n",
            "mecab-ipadic-2.7.0-20070801/Postp.csv\n",
            "mecab-ipadic-2.7.0-20070801/Prefix.csv\n",
            "mecab-ipadic-2.7.0-20070801/Suffix.csv\n",
            "mecab-ipadic-2.7.0-20070801/Symbol.csv\n",
            "mecab-ipadic-2.7.0-20070801/Verb.csv\n",
            "mecab-ipadic-2.7.0-20070801/char.def\n",
            "mecab-ipadic-2.7.0-20070801/feature.def\n",
            "mecab-ipadic-2.7.0-20070801/left-id.def\n",
            "mecab-ipadic-2.7.0-20070801/matrix.def\n",
            "mecab-ipadic-2.7.0-20070801/pos-id.def\n",
            "mecab-ipadic-2.7.0-20070801/rewrite.def\n",
            "mecab-ipadic-2.7.0-20070801/right-id.def\n",
            "mecab-ipadic-2.7.0-20070801/unk.def\n",
            "mecab-ipadic-2.7.0-20070801/dicrc\n",
            "mecab-ipadic-2.7.0-20070801/RESULT\n",
            "[make-mecab-ipadic-NEologd] : Configure custom system dictionary on /content/mecab-ipadic-neologd/libexec/../build/mecab-ipadic-2.7.0-20070801-neologd-20200910\n",
            "checking for a BSD-compatible install... /usr/bin/install -c\n",
            "checking whether build environment is sane... yes\n",
            "checking whether make sets $(MAKE)... yes\n",
            "checking for working aclocal-1.4... missing\n",
            "checking for working autoconf... found\n",
            "checking for working automake-1.4... missing\n",
            "checking for working autoheader... found\n",
            "checking for working makeinfo... missing\n",
            "checking for a BSD-compatible install... /usr/bin/install -c\n",
            "checking for mecab-config... /usr/bin/mecab-config\n",
            "configure: creating ./config.status\n",
            "config.status: creating Makefile\n",
            "[make-mecab-ipadic-NEologd] : Encode the character encoding of system dictionary resources from EUC_JP to UTF-8\n",
            "./../../libexec/iconv_euc_to_utf8.sh ./Noun.adverbal.csv \n",
            "./../../libexec/iconv_euc_to_utf8.sh ./Postp-col.csv \n",
            "./../../libexec/iconv_euc_to_utf8.sh ./Suffix.csv \n",
            "./../../libexec/iconv_euc_to_utf8.sh ./Others.csv \n",
            "./../../libexec/iconv_euc_to_utf8.sh ./Noun.adjv.csv \n",
            "./../../libexec/iconv_euc_to_utf8.sh ./Noun.others.csv \n",
            "./../../libexec/iconv_euc_to_utf8.sh ./Postp.csv \n",
            "./../../libexec/iconv_euc_to_utf8.sh ./Noun.nai.csv \n",
            "./../../libexec/iconv_euc_to_utf8.sh ./Noun.place.csv \n",
            "./../../libexec/iconv_euc_to_utf8.sh ./Noun.verbal.csv \n",
            "./../../libexec/iconv_euc_to_utf8.sh ./Interjection.csv \n",
            "./../../libexec/iconv_euc_to_utf8.sh ./Auxil.csv \n",
            "./../../libexec/iconv_euc_to_utf8.sh ./Filler.csv \n",
            "./../../libexec/iconv_euc_to_utf8.sh ./Noun.demonst.csv \n",
            "./../../libexec/iconv_euc_to_utf8.sh ./Adnominal.csv \n",
            "./../../libexec/iconv_euc_to_utf8.sh ./Conjunction.csv \n",
            "./../../libexec/iconv_euc_to_utf8.sh ./Adj.csv \n",
            "./../../libexec/iconv_euc_to_utf8.sh ./Noun.org.csv \n",
            "./../../libexec/iconv_euc_to_utf8.sh ./Adverb.csv \n",
            "./../../libexec/iconv_euc_to_utf8.sh ./Noun.name.csv \n",
            "./../../libexec/iconv_euc_to_utf8.sh ./Verb.csv \n",
            "./../../libexec/iconv_euc_to_utf8.sh ./Symbol.csv \n",
            "./../../libexec/iconv_euc_to_utf8.sh ./Prefix.csv \n",
            "./../../libexec/iconv_euc_to_utf8.sh ./Noun.csv \n",
            "./../../libexec/iconv_euc_to_utf8.sh ./Noun.number.csv \n",
            "./../../libexec/iconv_euc_to_utf8.sh ./Noun.proper.csv \n",
            "rm ./Noun.adverbal.csv \n",
            "rm ./Postp-col.csv \n",
            "rm ./Suffix.csv \n",
            "rm ./Others.csv \n",
            "rm ./Noun.adjv.csv \n",
            "rm ./Noun.others.csv \n",
            "rm ./Postp.csv \n",
            "rm ./Noun.nai.csv \n",
            "rm ./Noun.place.csv \n",
            "rm ./Noun.verbal.csv \n",
            "rm ./Interjection.csv \n",
            "rm ./Auxil.csv \n",
            "rm ./Filler.csv \n",
            "rm ./Noun.demonst.csv \n",
            "rm ./Adnominal.csv \n",
            "rm ./Conjunction.csv \n",
            "rm ./Adj.csv \n",
            "rm ./Noun.org.csv \n",
            "rm ./Adverb.csv \n",
            "rm ./Noun.name.csv \n",
            "rm ./Verb.csv \n",
            "rm ./Symbol.csv \n",
            "rm ./Prefix.csv \n",
            "rm ./Noun.csv \n",
            "rm ./Noun.number.csv \n",
            "rm ./Noun.proper.csv \n",
            "./../../libexec/iconv_euc_to_utf8.sh ./unk.def \n",
            "./../../libexec/iconv_euc_to_utf8.sh ./right-id.def \n",
            "./../../libexec/iconv_euc_to_utf8.sh ./left-id.def \n",
            "./../../libexec/iconv_euc_to_utf8.sh ./pos-id.def \n",
            "./../../libexec/iconv_euc_to_utf8.sh ./char.def \n",
            "./../../libexec/iconv_euc_to_utf8.sh ./rewrite.def \n",
            "./../../libexec/iconv_euc_to_utf8.sh ./feature.def \n",
            "./../../libexec/iconv_euc_to_utf8.sh ./matrix.def \n",
            "rm ./unk.def \n",
            "rm ./right-id.def \n",
            "rm ./left-id.def \n",
            "rm ./pos-id.def \n",
            "rm ./char.def \n",
            "rm ./rewrite.def \n",
            "rm ./feature.def \n",
            "rm ./matrix.def \n",
            "mv ./Filler.csv.utf8 ./Filler.csv \n",
            "mv ./Noun.proper.csv.utf8 ./Noun.proper.csv \n",
            "mv ./Adj.csv.utf8 ./Adj.csv \n",
            "mv ./matrix.def.utf8 ./matrix.def \n",
            "mv ./Noun.nai.csv.utf8 ./Noun.nai.csv \n",
            "mv ./Noun.place.csv.utf8 ./Noun.place.csv \n",
            "mv ./Adnominal.csv.utf8 ./Adnominal.csv \n",
            "mv ./Others.csv.utf8 ./Others.csv \n",
            "mv ./left-id.def.utf8 ./left-id.def \n",
            "mv ./Verb.csv.utf8 ./Verb.csv \n",
            "mv ./Noun.others.csv.utf8 ./Noun.others.csv \n",
            "mv ./Noun.org.csv.utf8 ./Noun.org.csv \n",
            "mv ./Noun.demonst.csv.utf8 ./Noun.demonst.csv \n",
            "mv ./Auxil.csv.utf8 ./Auxil.csv \n",
            "mv ./char.def.utf8 ./char.def \n",
            "mv ./Noun.csv.utf8 ./Noun.csv \n",
            "mv ./Adverb.csv.utf8 ./Adverb.csv \n",
            "mv ./Noun.verbal.csv.utf8 ./Noun.verbal.csv \n",
            "mv ./Noun.name.csv.utf8 ./Noun.name.csv \n",
            "mv ./Interjection.csv.utf8 ./Interjection.csv \n",
            "mv ./Postp-col.csv.utf8 ./Postp-col.csv \n",
            "mv ./Suffix.csv.utf8 ./Suffix.csv \n",
            "mv ./Symbol.csv.utf8 ./Symbol.csv \n",
            "mv ./Prefix.csv.utf8 ./Prefix.csv \n",
            "mv ./Noun.adverbal.csv.utf8 ./Noun.adverbal.csv \n",
            "mv ./rewrite.def.utf8 ./rewrite.def \n",
            "mv ./feature.def.utf8 ./feature.def \n",
            "mv ./Noun.number.csv.utf8 ./Noun.number.csv \n",
            "mv ./unk.def.utf8 ./unk.def \n",
            "mv ./Postp.csv.utf8 ./Postp.csv \n",
            "mv ./right-id.def.utf8 ./right-id.def \n",
            "mv ./Conjunction.csv.utf8 ./Conjunction.csv \n",
            "mv ./Noun.adjv.csv.utf8 ./Noun.adjv.csv \n",
            "mv ./pos-id.def.utf8 ./pos-id.def \n",
            "[make-mecab-ipadic-NEologd] : Fix yomigana field of IPA dictionary\n",
            "patching file Noun.csv\n",
            "patching file Noun.place.csv\n",
            "patching file Verb.csv\n",
            "patching file Noun.verbal.csv\n",
            "patching file Noun.name.csv\n",
            "patching file Noun.adverbal.csv\n",
            "patching file Noun.csv\n",
            "patching file Noun.name.csv\n",
            "patching file Noun.org.csv\n",
            "patching file Noun.others.csv\n",
            "patching file Noun.place.csv\n",
            "patching file Noun.proper.csv\n",
            "patching file Noun.verbal.csv\n",
            "patching file Prefix.csv\n",
            "patching file Suffix.csv\n",
            "patching file Noun.proper.csv\n",
            "patching file Noun.csv\n",
            "patching file Noun.name.csv\n",
            "patching file Noun.org.csv\n",
            "patching file Noun.place.csv\n",
            "patching file Noun.proper.csv\n",
            "patching file Noun.verbal.csv\n",
            "patching file Noun.name.csv\n",
            "patching file Noun.org.csv\n",
            "patching file Noun.place.csv\n",
            "patching file Noun.proper.csv\n",
            "patching file Suffix.csv\n",
            "patching file Noun.demonst.csv\n",
            "patching file Noun.csv\n",
            "patching file Noun.name.csv\n",
            "[make-mecab-ipadic-NEologd] : Copy user dictionary resource\n",
            "[make-mecab-ipadic-NEologd] : Install adverb entries using /content/mecab-ipadic-neologd/libexec/../seed/neologd-adverb-dict-seed.20150623.csv.xz\n",
            "[make-mecab-ipadic-NEologd] : Install interjection entries using /content/mecab-ipadic-neologd/libexec/../seed/neologd-interjection-dict-seed.20170216.csv.xz\n",
            "[make-mecab-ipadic-NEologd] : Install noun orthographic variant entries using /content/mecab-ipadic-neologd/libexec/../seed/neologd-common-noun-ortho-variant-dict-seed.20170228.csv.xz\n",
            "[make-mecab-ipadic-NEologd] : Install noun orthographic variant entries using /content/mecab-ipadic-neologd/libexec/../seed/neologd-proper-noun-ortho-variant-dict-seed.20161110.csv.xz\n",
            "[make-mecab-ipadic-NEologd] : Install entries of orthographic variant of a noun used as verb form using /content/mecab-ipadic-neologd/libexec/../seed/neologd-noun-sahen-conn-ortho-variant-dict-seed.20160323.csv.xz\n",
            "[make-mecab-ipadic-NEologd] : Install frequent adjective orthographic variant entries using /content/mecab-ipadic-neologd/libexec/../seed/neologd-adjective-std-dict-seed.20151126.csv.xz\n",
            "[make-mecab-ipadic-NEologd] : Install infrequent adjective orthographic variant entries using /content/mecab-ipadic-neologd/libexec/../seed/neologd-adjective-exp-dict-seed.20151126.csv.xz\n",
            "[make-mecab-ipadic-NEologd] : Install adjective verb orthographic variant entries using /content/mecab-ipadic-neologd/libexec/../seed/neologd-adjective-verb-dict-seed.20160324.csv.xz\n",
            "[make-mecab-ipadic-NEologd] : Install infrequent datetime representation entries using /content/mecab-ipadic-neologd/libexec/../seed/neologd-date-time-infreq-dict-seed.20190415.csv.xz\n",
            "[make-mecab-ipadic-NEologd] : Install infrequent quantity representation entries using /content/mecab-ipadic-neologd/libexec/../seed/neologd-quantity-infreq-dict-seed.20190415.csv.xz\n",
            "[make-mecab-ipadic-NEologd] : Install entries of ill formed words using /content/mecab-ipadic-neologd/libexec/../seed/neologd-ill-formed-words-dict-seed.20170127.csv.xz\n",
            "[make-mecab-ipadic-NEologd] : Re-Index system dictionary\n",
            "reading ./unk.def ... 40\n",
            "emitting double-array: 100% |###########################################| \n",
            "./model.def is not found. skipped.\n",
            "reading ./Noun.adverbal.csv ... 808\n",
            "reading ./neologd-proper-noun-ortho-variant-dict-seed.20161110.csv ... 138379\n",
            "reading ./Postp-col.csv ... 91\n",
            "reading ./Suffix.csv ... 1448\n",
            "reading ./Others.csv ... 2\n",
            "reading ./neologd-adjective-std-dict-seed.20151126.csv ... 507812\n",
            "reading ./Noun.adjv.csv ... 3328\n",
            "reading ./Noun.others.csv ... 153\n",
            "reading ./neologd-ill-formed-words-dict-seed.20170127.csv ... 60616\n",
            "reading ./Postp.csv ... 146\n",
            "reading ./neologd-noun-sahen-conn-ortho-variant-dict-seed.20160323.csv ... 26058\n",
            "reading ./Noun.nai.csv ... 42\n",
            "reading ./Noun.place.csv ... 73194\n",
            "reading ./Noun.verbal.csv ... 12150\n",
            "reading ./Interjection.csv ... 252\n",
            "reading ./Auxil.csv ... 199\n",
            "reading ./Filler.csv ... 19\n",
            "reading ./Noun.demonst.csv ... 120\n",
            "reading ./Adnominal.csv ... 135\n",
            "reading ./Conjunction.csv ... 171\n",
            "reading ./Adj.csv ... 27210\n",
            "reading ./Noun.org.csv ... 17149\n",
            "reading ./Adverb.csv ... 3032\n",
            "reading ./neologd-adjective-verb-dict-seed.20160324.csv ... 20268\n",
            "reading ./neologd-date-time-infreq-dict-seed.20190415.csv ... 16866\n",
            "reading ./Noun.name.csv ... 34215\n",
            "reading ./neologd-quantity-infreq-dict-seed.20190415.csv ... 229216\n",
            "reading ./neologd-adjective-exp-dict-seed.20151126.csv ... 1051146\n",
            "reading ./Verb.csv ... 130750\n",
            "reading ./Symbol.csv ... 208\n",
            "reading ./neologd-interjection-dict-seed.20170216.csv ... 4701\n",
            "reading ./neologd-adverb-dict-seed.20150623.csv ... 139792\n",
            "reading ./neologd-common-noun-ortho-variant-dict-seed.20170228.csv ... 152869\n",
            "reading ./Prefix.csv ... 224\n",
            "reading ./mecab-user-dict-seed.20200910.csv ... 3224584\n",
            "reading ./Noun.csv ... 60734\n",
            "reading ./Noun.number.csv ... 42\n",
            "reading ./Noun.proper.csv ... 27493\n",
            "emitting double-array: 100% |###########################################| \n",
            "reading ./matrix.def ... 1316x1316\n",
            "emitting matrix      : 100% |###########################################| \n",
            "\n",
            "done!\n",
            "[make-mecab-ipadic-NEologd] : Make custom system dictionary on /content/mecab-ipadic-neologd/libexec/../build/mecab-ipadic-2.7.0-20070801-neologd-20200910\n",
            "make: Nothing to be done for 'all'.\n",
            "[make-mecab-ipadic-NEologd] : Finish..\n",
            "[install-mecab-ipadic-NEologd] : OK. Let's install mecab-ipadic-NEologd.\n",
            "[install-mecab-ipadic-NEologd] : Start..\n",
            "[install-mecab-ipadic-NEologd] : /usr/lib/x86_64-linux-gnu/mecab/dic isn't current user's directory\n",
            "[install-mecab-ipadic-NEologd] : Sudo make install to /usr/lib/x86_64-linux-gnu/mecab/dic/mecab-ipadic-neologd\n",
            "make[1]: Entering directory '/content/mecab-ipadic-neologd/build/mecab-ipadic-2.7.0-20070801-neologd-20200910'\n",
            "make[1]: Nothing to be done for 'install-exec-am'.\n",
            "/bin/bash ./mkinstalldirs /usr/lib/x86_64-linux-gnu/mecab/dic/mecab-ipadic-neologd\n",
            "mkdir /usr/lib/x86_64-linux-gnu/mecab\n",
            "mkdir /usr/lib/x86_64-linux-gnu/mecab/dic\n",
            "mkdir /usr/lib/x86_64-linux-gnu/mecab/dic/mecab-ipadic-neologd\n",
            " /usr/bin/install -c -m 644 ./matrix.bin /usr/lib/x86_64-linux-gnu/mecab/dic/mecab-ipadic-neologd/matrix.bin\n",
            " /usr/bin/install -c -m 644 ./char.bin /usr/lib/x86_64-linux-gnu/mecab/dic/mecab-ipadic-neologd/char.bin\n",
            " /usr/bin/install -c -m 644 ./sys.dic /usr/lib/x86_64-linux-gnu/mecab/dic/mecab-ipadic-neologd/sys.dic\n",
            " /usr/bin/install -c -m 644 ./unk.dic /usr/lib/x86_64-linux-gnu/mecab/dic/mecab-ipadic-neologd/unk.dic\n",
            " /usr/bin/install -c -m 644 ./left-id.def /usr/lib/x86_64-linux-gnu/mecab/dic/mecab-ipadic-neologd/left-id.def\n",
            " /usr/bin/install -c -m 644 ./right-id.def /usr/lib/x86_64-linux-gnu/mecab/dic/mecab-ipadic-neologd/right-id.def\n",
            " /usr/bin/install -c -m 644 ./rewrite.def /usr/lib/x86_64-linux-gnu/mecab/dic/mecab-ipadic-neologd/rewrite.def\n",
            " /usr/bin/install -c -m 644 ./pos-id.def /usr/lib/x86_64-linux-gnu/mecab/dic/mecab-ipadic-neologd/pos-id.def\n",
            " /usr/bin/install -c -m 644 ./dicrc /usr/lib/x86_64-linux-gnu/mecab/dic/mecab-ipadic-neologd/dicrc\n",
            "make[1]: Leaving directory '/content/mecab-ipadic-neologd/build/mecab-ipadic-2.7.0-20070801-neologd-20200910'\n",
            "\n",
            "[install-mecab-ipadic-NEologd] : Install completed.\n",
            "[install-mecab-ipadic-NEologd] : When you use MeCab, you can set '/usr/lib/x86_64-linux-gnu/mecab/dic/mecab-ipadic-neologd' as a value of '-d' option of MeCab.\n",
            "[install-mecab-ipadic-NEologd] : Usage of mecab-ipadic-NEologd is here.\n",
            "Usage:\n",
            "    $ mecab -d /usr/lib/x86_64-linux-gnu/mecab/dic/mecab-ipadic-neologd ...\n",
            "\n",
            "[install-mecab-ipadic-NEologd] : Finish..\n",
            "[install-mecab-ipadic-NEologd] : Finish..\n"
          ]
        }
      ]
    },
    {
      "cell_type": "code",
      "source": [
        "!echo `mecab-config --dicdir`\"/mecab-ipadic-neologd\""
      ],
      "metadata": {
        "colab": {
          "base_uri": "https://localhost:8080/"
        },
        "id": "rp5DVTsYyB-j",
        "outputId": "c5c81977-52ae-4c2a-fe0d-09c241b575c9"
      },
      "execution_count": null,
      "outputs": [
        {
          "output_type": "stream",
          "name": "stdout",
          "text": [
            "/usr/lib/x86_64-linux-gnu/mecab/dic/mecab-ipadic-neologd\n"
          ]
        }
      ]
    },
    {
      "cell_type": "code",
      "source": [
        "!wget http://svn.sourceforge.jp/svnroot/slothlib/CSharp/Version1/SlothLib/NLP/Filter/StopWord/word/Japanese.txt"
      ],
      "metadata": {
        "colab": {
          "base_uri": "https://localhost:8080/"
        },
        "id": "U8ub1RzOw-bE",
        "outputId": "e5eae481-7e7e-47aa-e907-ced425c38b94"
      },
      "execution_count": null,
      "outputs": [
        {
          "output_type": "stream",
          "name": "stdout",
          "text": [
            "--2023-02-28 04:20:01--  http://svn.sourceforge.jp/svnroot/slothlib/CSharp/Version1/SlothLib/NLP/Filter/StopWord/word/Japanese.txt\n",
            "Resolving svn.sourceforge.jp (svn.sourceforge.jp)... 44.240.209.230\n",
            "Connecting to svn.sourceforge.jp (svn.sourceforge.jp)|44.240.209.230|:80... connected.\n",
            "HTTP request sent, awaiting response... 200 OK\n",
            "Length: 2202 (2.2K) [text/plain]\n",
            "Saving to: ‘Japanese.txt’\n",
            "\n",
            "Japanese.txt        100%[===================>]   2.15K  --.-KB/s    in 0s      \n",
            "\n",
            "2023-02-28 04:20:01 (228 MB/s) - ‘Japanese.txt’ saved [2202/2202]\n",
            "\n"
          ]
        }
      ]
    },
    {
      "cell_type": "markdown",
      "source": [
        "## 2. Data collection"
      ],
      "metadata": {
        "id": "j7EE6XiOXWiv"
      }
    },
    {
      "cell_type": "markdown",
      "source": [
        "News articles have been scraped from Yahoo! News Japan (https://news.yahoo.co.jp) in late Feb (19th, 23rd-25th) 2023. Technical detail of the web scraping procedure will not be included in this notebook."
      ],
      "metadata": {
        "id": "0PRyE45zBXhG"
      }
    },
    {
      "cell_type": "markdown",
      "source": [
        "The dataset contains below fields:\n",
        "\n",
        "*   `title`\n",
        "*   `url`\n",
        "*   `content`\n",
        "*   `category`\n",
        "\n"
      ],
      "metadata": {
        "id": "MhdzsRfgCqkC"
      }
    },
    {
      "cell_type": "markdown",
      "source": [
        "`content` contains the article of each news and will be used as feature. `category` will be used to verify the result (and label for random forest). `title` and `url` will not be used in this project."
      ],
      "metadata": {
        "id": "wuTY9YxV4QZV"
      }
    },
    {
      "cell_type": "markdown",
      "source": [
        "Although all the news articles are written in Japanese, readers of this notebook are not expected to have prior knowledge in Japanese."
      ],
      "metadata": {
        "id": "Fs63iwX946UE"
      }
    },
    {
      "cell_type": "markdown",
      "source": [
        "### 1. Import file"
      ],
      "metadata": {
        "id": "YziyIFxdU6cz"
      }
    },
    {
      "cell_type": "code",
      "execution_count": null,
      "metadata": {
        "id": "N_NU0YFzVITw"
      },
      "outputs": [],
      "source": [
        "import pandas as pd\n",
        "import numpy as np\n",
        "import json\n",
        "import re\n",
        "import itertools\n",
        "import MeCab\n",
        "import mojimoji\n",
        "\n",
        "from sklearn.model_selection import train_test_split\n",
        "from sklearn.metrics import accuracy_score\n",
        "from sklearn.feature_extraction.text import TfidfVectorizer\n",
        "from sklearn.decomposition import PCA, NMF\n",
        "from sklearn.ensemble import RandomForestClassifier\n",
        "from sklearn.cluster import MiniBatchKMeans, AgglomerativeClustering"
      ]
    },
    {
      "cell_type": "code",
      "source": [
        "file_path = \"/content/drive/MyDrive/raw/yahoo_news/yahoo_news_202302.json\"\n",
        "\n",
        "with open(file_path, encoding=\"utf-8\") as f:\n",
        "  lines = f.read().splitlines()\n",
        "\n",
        "news_df_inter = pd.DataFrame(lines, columns=[\"json_element\"])\n",
        "news_df = pd.json_normalize(news_df_inter[\"json_element\"].apply(json.loads)).drop([\"title\", \"url\"], axis=\"columns\")\n",
        "\n",
        "news_df.head()"
      ],
      "metadata": {
        "colab": {
          "base_uri": "https://localhost:8080/",
          "height": 206
        },
        "id": "0GLCqNrzU8QN",
        "outputId": "75c76ee3-45a4-4e7b-d465-b48ebbbbecfb"
      },
      "execution_count": null,
      "outputs": [
        {
          "output_type": "execute_result",
          "data": {
            "text/plain": [
              "                                             content category\n",
              "0  同点弾のウッド プレミアリーグ第24節でノッティンガム・フォレストはマンチェスター・シティと...   sports\n",
              "1  ブルペン投球を行った佐々木朗希【写真：小林靖】野球日本代表「侍ジャパン」の宮崎合宿は19日、...   sports\n",
              "2  U20選抜競歩に優勝した大山藍2月19日、兵庫県神戸市の六甲アイランドで第34回U20選抜競...   sports\n",
              "3  イメージ画像2月19日、小倉競馬場で行われた小倉大賞典はムルザバエフ騎手騎乗のヒンドゥタイム...   sports\n",
              "4  山本の投球を見ながら話し込む佐々木朗とダルビッシュ（撮影・金田祐二）「侍ジャパン強化合宿」（...   sports"
            ],
            "text/html": [
              "\n",
              "  <div id=\"df-682cf2cf-283b-4b5e-acbd-c14e6c216610\">\n",
              "    <div class=\"colab-df-container\">\n",
              "      <div>\n",
              "<style scoped>\n",
              "    .dataframe tbody tr th:only-of-type {\n",
              "        vertical-align: middle;\n",
              "    }\n",
              "\n",
              "    .dataframe tbody tr th {\n",
              "        vertical-align: top;\n",
              "    }\n",
              "\n",
              "    .dataframe thead th {\n",
              "        text-align: right;\n",
              "    }\n",
              "</style>\n",
              "<table border=\"1\" class=\"dataframe\">\n",
              "  <thead>\n",
              "    <tr style=\"text-align: right;\">\n",
              "      <th></th>\n",
              "      <th>content</th>\n",
              "      <th>category</th>\n",
              "    </tr>\n",
              "  </thead>\n",
              "  <tbody>\n",
              "    <tr>\n",
              "      <th>0</th>\n",
              "      <td>同点弾のウッド プレミアリーグ第24節でノッティンガム・フォレストはマンチェスター・シティと...</td>\n",
              "      <td>sports</td>\n",
              "    </tr>\n",
              "    <tr>\n",
              "      <th>1</th>\n",
              "      <td>ブルペン投球を行った佐々木朗希【写真：小林靖】野球日本代表「侍ジャパン」の宮崎合宿は19日、...</td>\n",
              "      <td>sports</td>\n",
              "    </tr>\n",
              "    <tr>\n",
              "      <th>2</th>\n",
              "      <td>U20選抜競歩に優勝した大山藍2月19日、兵庫県神戸市の六甲アイランドで第34回U20選抜競...</td>\n",
              "      <td>sports</td>\n",
              "    </tr>\n",
              "    <tr>\n",
              "      <th>3</th>\n",
              "      <td>イメージ画像2月19日、小倉競馬場で行われた小倉大賞典はムルザバエフ騎手騎乗のヒンドゥタイム...</td>\n",
              "      <td>sports</td>\n",
              "    </tr>\n",
              "    <tr>\n",
              "      <th>4</th>\n",
              "      <td>山本の投球を見ながら話し込む佐々木朗とダルビッシュ（撮影・金田祐二）「侍ジャパン強化合宿」（...</td>\n",
              "      <td>sports</td>\n",
              "    </tr>\n",
              "  </tbody>\n",
              "</table>\n",
              "</div>\n",
              "      <button class=\"colab-df-convert\" onclick=\"convertToInteractive('df-682cf2cf-283b-4b5e-acbd-c14e6c216610')\"\n",
              "              title=\"Convert this dataframe to an interactive table.\"\n",
              "              style=\"display:none;\">\n",
              "        \n",
              "  <svg xmlns=\"http://www.w3.org/2000/svg\" height=\"24px\"viewBox=\"0 0 24 24\"\n",
              "       width=\"24px\">\n",
              "    <path d=\"M0 0h24v24H0V0z\" fill=\"none\"/>\n",
              "    <path d=\"M18.56 5.44l.94 2.06.94-2.06 2.06-.94-2.06-.94-.94-2.06-.94 2.06-2.06.94zm-11 1L8.5 8.5l.94-2.06 2.06-.94-2.06-.94L8.5 2.5l-.94 2.06-2.06.94zm10 10l.94 2.06.94-2.06 2.06-.94-2.06-.94-.94-2.06-.94 2.06-2.06.94z\"/><path d=\"M17.41 7.96l-1.37-1.37c-.4-.4-.92-.59-1.43-.59-.52 0-1.04.2-1.43.59L10.3 9.45l-7.72 7.72c-.78.78-.78 2.05 0 2.83L4 21.41c.39.39.9.59 1.41.59.51 0 1.02-.2 1.41-.59l7.78-7.78 2.81-2.81c.8-.78.8-2.07 0-2.86zM5.41 20L4 18.59l7.72-7.72 1.47 1.35L5.41 20z\"/>\n",
              "  </svg>\n",
              "      </button>\n",
              "      \n",
              "  <style>\n",
              "    .colab-df-container {\n",
              "      display:flex;\n",
              "      flex-wrap:wrap;\n",
              "      gap: 12px;\n",
              "    }\n",
              "\n",
              "    .colab-df-convert {\n",
              "      background-color: #E8F0FE;\n",
              "      border: none;\n",
              "      border-radius: 50%;\n",
              "      cursor: pointer;\n",
              "      display: none;\n",
              "      fill: #1967D2;\n",
              "      height: 32px;\n",
              "      padding: 0 0 0 0;\n",
              "      width: 32px;\n",
              "    }\n",
              "\n",
              "    .colab-df-convert:hover {\n",
              "      background-color: #E2EBFA;\n",
              "      box-shadow: 0px 1px 2px rgba(60, 64, 67, 0.3), 0px 1px 3px 1px rgba(60, 64, 67, 0.15);\n",
              "      fill: #174EA6;\n",
              "    }\n",
              "\n",
              "    [theme=dark] .colab-df-convert {\n",
              "      background-color: #3B4455;\n",
              "      fill: #D2E3FC;\n",
              "    }\n",
              "\n",
              "    [theme=dark] .colab-df-convert:hover {\n",
              "      background-color: #434B5C;\n",
              "      box-shadow: 0px 1px 3px 1px rgba(0, 0, 0, 0.15);\n",
              "      filter: drop-shadow(0px 1px 2px rgba(0, 0, 0, 0.3));\n",
              "      fill: #FFFFFF;\n",
              "    }\n",
              "  </style>\n",
              "\n",
              "      <script>\n",
              "        const buttonEl =\n",
              "          document.querySelector('#df-682cf2cf-283b-4b5e-acbd-c14e6c216610 button.colab-df-convert');\n",
              "        buttonEl.style.display =\n",
              "          google.colab.kernel.accessAllowed ? 'block' : 'none';\n",
              "\n",
              "        async function convertToInteractive(key) {\n",
              "          const element = document.querySelector('#df-682cf2cf-283b-4b5e-acbd-c14e6c216610');\n",
              "          const dataTable =\n",
              "            await google.colab.kernel.invokeFunction('convertToInteractive',\n",
              "                                                     [key], {});\n",
              "          if (!dataTable) return;\n",
              "\n",
              "          const docLinkHtml = 'Like what you see? Visit the ' +\n",
              "            '<a target=\"_blank\" href=https://colab.research.google.com/notebooks/data_table.ipynb>data table notebook</a>'\n",
              "            + ' to learn more about interactive tables.';\n",
              "          element.innerHTML = '';\n",
              "          dataTable['output_type'] = 'display_data';\n",
              "          await google.colab.output.renderOutput(dataTable, element);\n",
              "          const docLink = document.createElement('div');\n",
              "          docLink.innerHTML = docLinkHtml;\n",
              "          element.appendChild(docLink);\n",
              "        }\n",
              "      </script>\n",
              "    </div>\n",
              "  </div>\n",
              "  "
            ]
          },
          "metadata": {},
          "execution_count": 6
        }
      ]
    },
    {
      "cell_type": "code",
      "source": [
        "news_df.info()"
      ],
      "metadata": {
        "colab": {
          "base_uri": "https://localhost:8080/"
        },
        "id": "207mnB09TLaX",
        "outputId": "9e7c094f-0f35-4bce-f7a8-cc60c872ae29"
      },
      "execution_count": null,
      "outputs": [
        {
          "output_type": "stream",
          "name": "stdout",
          "text": [
            "<class 'pandas.core.frame.DataFrame'>\n",
            "RangeIndex: 7612 entries, 0 to 7611\n",
            "Data columns (total 2 columns):\n",
            " #   Column    Non-Null Count  Dtype \n",
            "---  ------    --------------  ----- \n",
            " 0   content   7612 non-null   object\n",
            " 1   category  7612 non-null   object\n",
            "dtypes: object(2)\n",
            "memory usage: 119.1+ KB\n"
          ]
        }
      ]
    },
    {
      "cell_type": "markdown",
      "source": [
        "### 2. Remove duplicates"
      ],
      "metadata": {
        "id": "Hj8Cdj1OSa4a"
      }
    },
    {
      "cell_type": "code",
      "source": [
        "news_df.drop_duplicates(subset=\"content\", inplace=True)\n",
        "news_df.reset_index(drop=True, inplace=True)\n",
        "news_df.info()"
      ],
      "metadata": {
        "colab": {
          "base_uri": "https://localhost:8080/"
        },
        "id": "IYJqeqyeSc0C",
        "outputId": "cc759269-973a-4edd-c711-cec77b02bee2"
      },
      "execution_count": null,
      "outputs": [
        {
          "output_type": "stream",
          "name": "stdout",
          "text": [
            "<class 'pandas.core.frame.DataFrame'>\n",
            "RangeIndex: 6617 entries, 0 to 6616\n",
            "Data columns (total 2 columns):\n",
            " #   Column    Non-Null Count  Dtype \n",
            "---  ------    --------------  ----- \n",
            " 0   content   6617 non-null   object\n",
            " 1   category  6617 non-null   object\n",
            "dtypes: object(2)\n",
            "memory usage: 103.5+ KB\n"
          ]
        }
      ]
    },
    {
      "cell_type": "markdown",
      "source": [
        "## 3. Exploratory data analysis"
      ],
      "metadata": {
        "id": "o3E-cpu8kw2Y"
      }
    },
    {
      "cell_type": "markdown",
      "source": [
        "### 1. Category distribution"
      ],
      "metadata": {
        "id": "x5SwIt6lk25y"
      }
    },
    {
      "cell_type": "code",
      "source": [
        "ax = news_df.groupby(\"category\")[\"category\"].count().plot(kind=\"bar\", \n",
        "                                                          title=\"Count per category\", \n",
        "                                                          figsize=(10, 7))\n",
        "ax.bar_label(ax.containers[0])"
      ],
      "metadata": {
        "colab": {
          "base_uri": "https://localhost:8080/",
          "height": 628
        },
        "id": "ZfeLYNE1kyvZ",
        "outputId": "55d0e940-62c3-4a18-86d7-277d22ae789c"
      },
      "execution_count": null,
      "outputs": [
        {
          "output_type": "execute_result",
          "data": {
            "text/plain": [
              "[Text(0, 0, '1287'),\n",
              " Text(0, 0, '1380'),\n",
              " Text(0, 0, '1203'),\n",
              " Text(0, 0, '827'),\n",
              " Text(0, 0, '950'),\n",
              " Text(0, 0, '970')]"
            ]
          },
          "metadata": {},
          "execution_count": 44
        },
        {
          "output_type": "display_data",
          "data": {
            "text/plain": [
              "<Figure size 720x504 with 1 Axes>"
            ],
            "image/png": "[encoded data removed]"
          },
          "metadata": {
            "needs_background": "light"
          }
        }
      ]
    },
    {
      "cell_type": "markdown",
      "source": [
        "### 2. Word count distribution"
      ],
      "metadata": {
        "id": "FKpHnCXal-Tr"
      }
    },
    {
      "cell_type": "code",
      "source": [
        "news_df[\"content\"].str.len().hist(bins=250, figsize=(10, 7))"
      ],
      "metadata": {
        "colab": {
          "base_uri": "https://localhost:8080/",
          "height": 446
        },
        "id": "9XidxjmBmBxp",
        "outputId": "8f136472-e6a9-4c5b-9c62-b56c0c40622b"
      },
      "execution_count": null,
      "outputs": [
        {
          "output_type": "execute_result",
          "data": {
            "text/plain": [
              "<AxesSubplot:>"
            ]
          },
          "metadata": {},
          "execution_count": 48
        },
        {
          "output_type": "display_data",
          "data": {
            "text/plain": [
              "<Figure size 720x504 with 1 Axes>"
            ],
            "image/png": "[encoded data removed]"
          },
          "metadata": {
            "needs_background": "light"
          }
        }
      ]
    },
    {
      "cell_type": "markdown",
      "source": [
        "After cleaning up, the dataset contains a total of 6617 news articles in 6 categories. Each category consists of 827-1380 articles. Most of the articles are under 2000 words in length."
      ],
      "metadata": {
        "id": "-1hMYDZ2tHO_"
      }
    },
    {
      "cell_type": "markdown",
      "source": [
        "## 3. Data pre-processing"
      ],
      "metadata": {
        "id": "ttstJUB_mlvY"
      }
    },
    {
      "cell_type": "markdown",
      "source": [
        "### 1. Tokenization"
      ],
      "metadata": {
        "id": "KM9d02z9042H"
      }
    },
    {
      "cell_type": "markdown",
      "source": [
        "Unlike English which could be splitted by space, there is not a quick way to tokenize Japanese sentences. There are many libraries that can be used to perform the task. Each of them uses a different approach and none of them is perfect. In this project, below tools will be used to tokenize and clean up the articles:\n",
        "\n",
        "\n",
        "*   `MeCab` library with `mecab-ipadic-NEologd` dictionary file to tokenize and lemmatize articles\n",
        "*   `mojimoji` library to convert full-width letters and digits to half-width\n",
        "*   Remove stopwords by utilizing the stopword list provided by SlothLib\n"
      ],
      "metadata": {
        "id": "_XDPPKYDs6L_"
      }
    },
    {
      "cell_type": "code",
      "source": [
        "with open(\"/content/Japanese.txt\",\"r\") as f:\n",
        "  stopwords = f.read().split(\"\\n\")\n",
        "\n",
        "dict_path = \"-d /usr/lib/x86_64-linux-gnu/mecab/dic/mecab-ipadic-neologd\"\n",
        "mecab = MeCab.Tagger(dict_path)\n",
        "\n",
        "def mecab_tokenizer(text, mecab=mecab, stopwords=stopwords):\n",
        "  replaced_text = text.lower()\n",
        "  \n",
        "  # Remove numbers\n",
        "  replaced_text = re.sub(r\"\\d+\\.*\\d*\", \"\", replaced_text)\n",
        "  \n",
        "  # Convert full-width letters and digits to half-width\n",
        "  replaced_text = mojimoji.zen_to_han(replaced_text, kana=False, digit=True, ascii=True)\n",
        "\n",
        "  parsed_lines = mecab.parse(replaced_text).split(\"\\n\")[:-2]\n",
        "  token_list_tmp = [[l.split(\"\\t\")[0], l.split(\"\\t\")[1].split(\",\")[6]] for l in parsed_lines]\n",
        "  token_list = [e[1] if e[1] != \"*\" else e[0] for e in token_list_tmp]\n",
        "  \n",
        "  # Parts of speech\n",
        "  pos = [l.split(\"\\t\")[1].split(\",\")[0] for l in parsed_lines]\n",
        "  target_pos = [\"名詞\", \"動詞\", \"形容詞\"] # Only include noun, verb, adjective\n",
        "  token_list = [t for t, p in zip(token_list, pos) if p in target_pos]\n",
        "  \n",
        "  # Remove stopwords & date/time indicators\n",
        "  datetime_words = [\"年月日\", \"年月\", \"月日\", \"時分\", \"午前\", \"午後\"]\n",
        "  token_list = [t for t in token_list if ((t not in stopwords) and (t not in datetime_words))]\n",
        "\n",
        "  # Remove hiragana-only phases\n",
        "  kana_re = re.compile(\"^[ぁ-ゖ]+$\")\n",
        "  token_list = [t for t in token_list if not kana_re.match(t)]\n",
        "  \n",
        "  return \" \".join(token_list)"
      ],
      "metadata": {
        "id": "9hyXOiqA0kf2"
      },
      "execution_count": null,
      "outputs": []
    },
    {
      "cell_type": "code",
      "source": [
        "news_df[\"clean_text\"] = news_df[\"content\"].apply(mecab_tokenizer)\n",
        "news_df.head()"
      ],
      "metadata": {
        "colab": {
          "base_uri": "https://localhost:8080/",
          "height": 337
        },
        "id": "0GrpAlci-Yj5",
        "outputId": "640b96fa-063a-484c-b059-9113e9472ec7"
      },
      "execution_count": null,
      "outputs": [
        {
          "output_type": "execute_result",
          "data": {
            "text/plain": [
              "                                             content category  \\\n",
              "0  同点弾のウッド プレミアリーグ第24節でノッティンガム・フォレストはマンチェスター・シティと...   sports   \n",
              "1  ブルペン投球を行った佐々木朗希【写真：小林靖】野球日本代表「侍ジャパン」の宮崎合宿は19日、...   sports   \n",
              "2  U20選抜競歩に優勝した大山藍2月19日、兵庫県神戸市の六甲アイランドで第34回U20選抜競...   sports   \n",
              "3  イメージ画像2月19日、小倉競馬場で行われた小倉大賞典はムルザバエフ騎手騎乗のヒンドゥタイム...   sports   \n",
              "4  山本の投球を見ながら話し込む佐々木朗とダルビッシュ（撮影・金田祐二）「侍ジャパン強化合宿」（...   sports   \n",
              "\n",
              "                                          clean_text  \n",
              "0  同点弾 ウッド Premier League 節 ノッティンガム・フォレスト マンチェスター...  \n",
              "1  ブルペン投球 行う 佐々木朗希 写真 小林 靖 野球日本代表 侍ジャパン 宮崎 合宿 クール...  \n",
              "2  u 選抜 競歩 優勝 大山藍 兵庫県神戸市 六甲アイランド u 選抜 競歩 行う 女子 km...  \n",
              "3  イメージ 画像 小倉競馬場 行う 小倉大賞典 ムルザバエフ 騎手 騎乗 ヒンドゥ・タイムズ ...  \n",
              "4  山本 投球 見る 話し込む 佐々木 朗 ダルビッシュ 撮影 金田 祐二 侍ジャパン 強化合宿...  "
            ],
            "text/html": [
              "\n",
              "  <div id=\"df-7950c19f-9d3a-46e5-8a93-1185fb0eab5b\">\n",
              "    <div class=\"colab-df-container\">\n",
              "      <div>\n",
              "<style scoped>\n",
              "    .dataframe tbody tr th:only-of-type {\n",
              "        vertical-align: middle;\n",
              "    }\n",
              "\n",
              "    .dataframe tbody tr th {\n",
              "        vertical-align: top;\n",
              "    }\n",
              "\n",
              "    .dataframe thead th {\n",
              "        text-align: right;\n",
              "    }\n",
              "</style>\n",
              "<table border=\"1\" class=\"dataframe\">\n",
              "  <thead>\n",
              "    <tr style=\"text-align: right;\">\n",
              "      <th></th>\n",
              "      <th>content</th>\n",
              "      <th>category</th>\n",
              "      <th>clean_text</th>\n",
              "    </tr>\n",
              "  </thead>\n",
              "  <tbody>\n",
              "    <tr>\n",
              "      <th>0</th>\n",
              "      <td>同点弾のウッド プレミアリーグ第24節でノッティンガム・フォレストはマンチェスター・シティと...</td>\n",
              "      <td>sports</td>\n",
              "      <td>同点弾 ウッド Premier League 節 ノッティンガム・フォレスト マンチェスター...</td>\n",
              "    </tr>\n",
              "    <tr>\n",
              "      <th>1</th>\n",
              "      <td>ブルペン投球を行った佐々木朗希【写真：小林靖】野球日本代表「侍ジャパン」の宮崎合宿は19日、...</td>\n",
              "      <td>sports</td>\n",
              "      <td>ブルペン投球 行う 佐々木朗希 写真 小林 靖 野球日本代表 侍ジャパン 宮崎 合宿 クール...</td>\n",
              "    </tr>\n",
              "    <tr>\n",
              "      <th>2</th>\n",
              "      <td>U20選抜競歩に優勝した大山藍2月19日、兵庫県神戸市の六甲アイランドで第34回U20選抜競...</td>\n",
              "      <td>sports</td>\n",
              "      <td>u 選抜 競歩 優勝 大山藍 兵庫県神戸市 六甲アイランド u 選抜 競歩 行う 女子 km...</td>\n",
              "    </tr>\n",
              "    <tr>\n",
              "      <th>3</th>\n",
              "      <td>イメージ画像2月19日、小倉競馬場で行われた小倉大賞典はムルザバエフ騎手騎乗のヒンドゥタイム...</td>\n",
              "      <td>sports</td>\n",
              "      <td>イメージ 画像 小倉競馬場 行う 小倉大賞典 ムルザバエフ 騎手 騎乗 ヒンドゥ・タイムズ ...</td>\n",
              "    </tr>\n",
              "    <tr>\n",
              "      <th>4</th>\n",
              "      <td>山本の投球を見ながら話し込む佐々木朗とダルビッシュ（撮影・金田祐二）「侍ジャパン強化合宿」（...</td>\n",
              "      <td>sports</td>\n",
              "      <td>山本 投球 見る 話し込む 佐々木 朗 ダルビッシュ 撮影 金田 祐二 侍ジャパン 強化合宿...</td>\n",
              "    </tr>\n",
              "  </tbody>\n",
              "</table>\n",
              "</div>\n",
              "      <button class=\"colab-df-convert\" onclick=\"convertToInteractive('df-7950c19f-9d3a-46e5-8a93-1185fb0eab5b')\"\n",
              "              title=\"Convert this dataframe to an interactive table.\"\n",
              "              style=\"display:none;\">\n",
              "        \n",
              "  <svg xmlns=\"http://www.w3.org/2000/svg\" height=\"24px\"viewBox=\"0 0 24 24\"\n",
              "       width=\"24px\">\n",
              "    <path d=\"M0 0h24v24H0V0z\" fill=\"none\"/>\n",
              "    <path d=\"M18.56 5.44l.94 2.06.94-2.06 2.06-.94-2.06-.94-.94-2.06-.94 2.06-2.06.94zm-11 1L8.5 8.5l.94-2.06 2.06-.94-2.06-.94L8.5 2.5l-.94 2.06-2.06.94zm10 10l.94 2.06.94-2.06 2.06-.94-2.06-.94-.94-2.06-.94 2.06-2.06.94z\"/><path d=\"M17.41 7.96l-1.37-1.37c-.4-.4-.92-.59-1.43-.59-.52 0-1.04.2-1.43.59L10.3 9.45l-7.72 7.72c-.78.78-.78 2.05 0 2.83L4 21.41c.39.39.9.59 1.41.59.51 0 1.02-.2 1.41-.59l7.78-7.78 2.81-2.81c.8-.78.8-2.07 0-2.86zM5.41 20L4 18.59l7.72-7.72 1.47 1.35L5.41 20z\"/>\n",
              "  </svg>\n",
              "      </button>\n",
              "      \n",
              "  <style>\n",
              "    .colab-df-container {\n",
              "      display:flex;\n",
              "      flex-wrap:wrap;\n",
              "      gap: 12px;\n",
              "    }\n",
              "\n",
              "    .colab-df-convert {\n",
              "      background-color: #E8F0FE;\n",
              "      border: none;\n",
              "      border-radius: 50%;\n",
              "      cursor: pointer;\n",
              "      display: none;\n",
              "      fill: #1967D2;\n",
              "      height: 32px;\n",
              "      padding: 0 0 0 0;\n",
              "      width: 32px;\n",
              "    }\n",
              "\n",
              "    .colab-df-convert:hover {\n",
              "      background-color: #E2EBFA;\n",
              "      box-shadow: 0px 1px 2px rgba(60, 64, 67, 0.3), 0px 1px 3px 1px rgba(60, 64, 67, 0.15);\n",
              "      fill: #174EA6;\n",
              "    }\n",
              "\n",
              "    [theme=dark] .colab-df-convert {\n",
              "      background-color: #3B4455;\n",
              "      fill: #D2E3FC;\n",
              "    }\n",
              "\n",
              "    [theme=dark] .colab-df-convert:hover {\n",
              "      background-color: #434B5C;\n",
              "      box-shadow: 0px 1px 3px 1px rgba(0, 0, 0, 0.15);\n",
              "      filter: drop-shadow(0px 1px 2px rgba(0, 0, 0, 0.3));\n",
              "      fill: #FFFFFF;\n",
              "    }\n",
              "  </style>\n",
              "\n",
              "      <script>\n",
              "        const buttonEl =\n",
              "          document.querySelector('#df-7950c19f-9d3a-46e5-8a93-1185fb0eab5b button.colab-df-convert');\n",
              "        buttonEl.style.display =\n",
              "          google.colab.kernel.accessAllowed ? 'block' : 'none';\n",
              "\n",
              "        async function convertToInteractive(key) {\n",
              "          const element = document.querySelector('#df-7950c19f-9d3a-46e5-8a93-1185fb0eab5b');\n",
              "          const dataTable =\n",
              "            await google.colab.kernel.invokeFunction('convertToInteractive',\n",
              "                                                     [key], {});\n",
              "          if (!dataTable) return;\n",
              "\n",
              "          const docLinkHtml = 'Like what you see? Visit the ' +\n",
              "            '<a target=\"_blank\" href=https://colab.research.google.com/notebooks/data_table.ipynb>data table notebook</a>'\n",
              "            + ' to learn more about interactive tables.';\n",
              "          element.innerHTML = '';\n",
              "          dataTable['output_type'] = 'display_data';\n",
              "          await google.colab.output.renderOutput(dataTable, element);\n",
              "          const docLink = document.createElement('div');\n",
              "          docLink.innerHTML = docLinkHtml;\n",
              "          element.appendChild(docLink);\n",
              "        }\n",
              "      </script>\n",
              "    </div>\n",
              "  </div>\n",
              "  "
            ]
          },
          "metadata": {},
          "execution_count": 12
        }
      ]
    },
    {
      "cell_type": "markdown",
      "source": [
        "### 2. Split dataset"
      ],
      "metadata": {
        "id": "brVm9nDGSohW"
      }
    },
    {
      "cell_type": "markdown",
      "source": [
        "Split the dataset into training set and testing set with a 7:3 ratio."
      ],
      "metadata": {
        "id": "HKEgmewvUDbU"
      }
    },
    {
      "cell_type": "code",
      "source": [
        "train_x, test_x, train_y, test_y = train_test_split(news_df[\"clean_text\"], \n",
        "                                                    news_df[\"category\"], \n",
        "                                                    test_size=0.3, random_state=100)"
      ],
      "metadata": {
        "id": "KCGmG13cSr2s"
      },
      "execution_count": null,
      "outputs": []
    },
    {
      "cell_type": "code",
      "source": [
        "print(len(train_x))\n",
        "print(len(test_x))"
      ],
      "metadata": {
        "colab": {
          "base_uri": "https://localhost:8080/"
        },
        "id": "elb2FaCTT7oB",
        "outputId": "e37a18e2-2ba9-486a-a3e1-f5d2d41438fe"
      },
      "execution_count": null,
      "outputs": [
        {
          "output_type": "stream",
          "name": "stdout",
          "text": [
            "4631\n",
            "1986\n"
          ]
        }
      ]
    },
    {
      "cell_type": "markdown",
      "source": [
        "### 3. Word embedding"
      ],
      "metadata": {
        "id": "yb1Ew_8d09un"
      }
    },
    {
      "cell_type": "markdown",
      "source": [
        "TF-IDF will be used to vectorize the articles. TF-IDF stands for \"Term Frequency-Inverse Document Frequency.\" It is a statistical method used to evaluate the importance of a word in a document within a collection of documents. The term frequency (TF) measures the number of times a word appears in a document, while the inverse document frequency (IDF) measures how often a word appears in the entire collection of documents. The final TF-IDF score is the product of these two values, providing a measure of the importance of a word in a document relative to the entire collection.\n",
        "\n",
        "The idea behind TF-IDF is that words that occur frequently in a document are important, but common words across many documents are not as significant. For example, the word \"the\" may appear frequently in many documents, but its high frequency across the entire collection of documents makes it less important in determining the uniqueness of a single document. On the other hand, a word that appears frequently in a single document and less often in the rest of the collection would be considered more important in determining the content of that document."
      ],
      "metadata": {
        "id": "-sLpLfPC1FQn"
      }
    },
    {
      "cell_type": "code",
      "source": [
        "tfidvec = TfidfVectorizer(min_df = 5, max_df = 0.9)\n",
        "tfidvec_train = tfidvec.fit_transform(train_x)\n",
        "tfidvec_train.shape"
      ],
      "metadata": {
        "id": "TBylVXJ81ath",
        "colab": {
          "base_uri": "https://localhost:8080/"
        },
        "outputId": "57cdb33b-6737-45ca-96cc-d295aa2950b8"
      },
      "execution_count": null,
      "outputs": [
        {
          "output_type": "execute_result",
          "data": {
            "text/plain": [
              "(4631, 13447)"
            ]
          },
          "metadata": {},
          "execution_count": 15
        }
      ]
    },
    {
      "cell_type": "code",
      "source": [
        "tfidvec_test = tfidvec.transform(test_x)\n",
        "tfidvec_test.shape"
      ],
      "metadata": {
        "colab": {
          "base_uri": "https://localhost:8080/"
        },
        "id": "vxFgFmjauAdk",
        "outputId": "95396c4d-78b4-43b5-9e2c-e940658f84c2"
      },
      "execution_count": null,
      "outputs": [
        {
          "output_type": "execute_result",
          "data": {
            "text/plain": [
              "(1986, 13447)"
            ]
          },
          "metadata": {},
          "execution_count": 16
        }
      ]
    },
    {
      "cell_type": "markdown",
      "source": [
        "## 4. Model fitting"
      ],
      "metadata": {
        "id": "1h7OmOgaaBev"
      }
    },
    {
      "cell_type": "markdown",
      "source": [
        "### 0. Utility function"
      ],
      "metadata": {
        "id": "xF0-3PkXaP_C"
      }
    },
    {
      "cell_type": "code",
      "source": [
        "labels = (\"domestic\", \"world\", \"business\", \"entertainment\", \"sports\", \"it\")"
      ],
      "metadata": {
        "id": "EWZ4RUzvbjl4"
      },
      "execution_count": null,
      "outputs": []
    },
    {
      "cell_type": "code",
      "source": [
        "def label_permute(y_true, y_predicted, labels):\n",
        "  n = len(labels)\n",
        "  best_labels = None\n",
        "  best_acc = 0\n",
        "\n",
        "  for perm in itertools.permutations(range(n)):\n",
        "      acc = accuracy_score(pd.DataFrame(y_true),\n",
        "                           pd.DataFrame(y_predicted).replace(perm, labels))\n",
        "      if acc > best_acc:\n",
        "          best_labels = perm\n",
        "          best_acc = acc\n",
        "\n",
        "  return best_labels, best_acc"
      ],
      "metadata": {
        "id": "RD8Jah_IaZRb"
      },
      "execution_count": null,
      "outputs": []
    },
    {
      "cell_type": "markdown",
      "source": [
        "### 1. Mini-Batch K-Means clustering"
      ],
      "metadata": {
        "id": "riDWmGWunzqN"
      }
    },
    {
      "cell_type": "markdown",
      "source": [
        "#### 1. Model ftting"
      ],
      "metadata": {
        "id": "Ft2aSywgVmAF"
      }
    },
    {
      "cell_type": "code",
      "source": [
        "km = MiniBatchKMeans(n_clusters=len(labels), random_state=100).fit(tfidvec_train)\n",
        "predicted_train_km = km.predict(tfidvec_train)\n",
        "label_order_km, acc_train_km = label_permute(train_y, predicted_train_km, labels)\n",
        "print(f\"Label order = {label_order_km}\")\n",
        "print(f\"Training accuracy = {acc_train_km}\")"
      ],
      "metadata": {
        "colab": {
          "base_uri": "https://localhost:8080/"
        },
        "id": "E6Izsr8DzJ1I",
        "outputId": "06fa1616-317c-4170-805d-3da52ab531ea"
      },
      "execution_count": null,
      "outputs": [
        {
          "output_type": "stream",
          "name": "stdout",
          "text": [
            "Label order = (5, 3, 0, 1, 4, 2)\n",
            "Training accuracy = 0.4592960483696826\n"
          ]
        }
      ]
    },
    {
      "cell_type": "markdown",
      "source": [
        "#### 2. Attempt to improve performance with PCA"
      ],
      "metadata": {
        "id": "EsaA5fRxjC7b"
      }
    },
    {
      "cell_type": "markdown",
      "source": [
        "As k-means clustering suffers from the curse of dimensionality, let's reduce the dimension of the input matrix and see if it helps."
      ],
      "metadata": {
        "id": "CmJsL-67jUyc"
      }
    },
    {
      "cell_type": "code",
      "source": [
        "pca = PCA(n_components = 0.9, svd_solver = \"full\").fit(tfidvec_train.toarray())\n",
        "tfidvec_train_pca = pca.transform(tfidvec_train.toarray())\n",
        "tfidvec_train_pca.shape"
      ],
      "metadata": {
        "colab": {
          "base_uri": "https://localhost:8080/"
        },
        "id": "G1IQjwkdDcgc",
        "outputId": "90f6ebdd-20b0-4a96-ad93-86cf2424b011"
      },
      "execution_count": null,
      "outputs": [
        {
          "output_type": "execute_result",
          "data": {
            "text/plain": [
              "(4631, 2550)"
            ]
          },
          "metadata": {},
          "execution_count": 20
        }
      ]
    },
    {
      "cell_type": "code",
      "source": [
        "km_pca = MiniBatchKMeans(n_clusters=len(labels), random_state=100).fit(tfidvec_train_pca)\n",
        "predicted_train_km_pca = km_pca.predict(tfidvec_train_pca)\n",
        "label_order_km_pca, acc_train_km_pca = label_permute(train_y, predicted_train_km_pca, labels)\n",
        "print(f\"Label order = {label_order_km_pca}\")\n",
        "print(f\"Training accuracy = {acc_train_km_pca}\")"
      ],
      "metadata": {
        "colab": {
          "base_uri": "https://localhost:8080/"
        },
        "id": "wvIRWqlckeSq",
        "outputId": "860cdf9d-90b7-4c80-86cd-b550a13f2914"
      },
      "execution_count": null,
      "outputs": [
        {
          "output_type": "stream",
          "name": "stdout",
          "text": [
            "Label order = (1, 2, 3, 4, 0, 5)\n",
            "Training accuracy = 0.4009933059814295\n"
          ]
        }
      ]
    },
    {
      "cell_type": "markdown",
      "source": [
        "With `n_components=0.9`, PCA reduced the number of features from 13447 to 2550. But training accuracy is lowered by around 6% when fitting with the reduced matrix."
      ],
      "metadata": {
        "id": "UvoP8yPtrPFm"
      }
    },
    {
      "cell_type": "markdown",
      "source": [
        "#### 3. Validation with test set"
      ],
      "metadata": {
        "id": "nBFCIADvVrG1"
      }
    },
    {
      "cell_type": "code",
      "source": [
        "predicted_test_km = pd.DataFrame(km.predict(tfidvec_test)).replace(label_order_km, labels)\n",
        "print(f\"Testing accuracy = {accuracy_score(test_y, predicted_test_km)}\")"
      ],
      "metadata": {
        "colab": {
          "base_uri": "https://localhost:8080/"
        },
        "id": "y2KTskJfUF9i",
        "outputId": "71789aba-f992-44e6-a294-ead8aea2a590"
      },
      "execution_count": null,
      "outputs": [
        {
          "output_type": "stream",
          "name": "stdout",
          "text": [
            "Testing accuracy = 0.4511581067472306\n"
          ]
        }
      ]
    },
    {
      "cell_type": "code",
      "source": [
        "tfidvec_test_pca = pca.transform(tfidvec_test.toarray())\n",
        "tfidvec_test_pca.shape"
      ],
      "metadata": {
        "colab": {
          "base_uri": "https://localhost:8080/"
        },
        "id": "hBRVJhvnqAjV",
        "outputId": "723e1492-afe0-4336-f743-c808d5e9c182"
      },
      "execution_count": null,
      "outputs": [
        {
          "output_type": "execute_result",
          "data": {
            "text/plain": [
              "(1986, 2550)"
            ]
          },
          "metadata": {},
          "execution_count": 23
        }
      ]
    },
    {
      "cell_type": "code",
      "source": [
        "# With PCA\n",
        "predicted_test_km_pca = pd.DataFrame(km_pca.predict(tfidvec_test_pca)).replace(label_order_km_pca, labels)\n",
        "print(f\"Testing accuracy = {accuracy_score(test_y, predicted_test_km_pca)}\")"
      ],
      "metadata": {
        "colab": {
          "base_uri": "https://localhost:8080/"
        },
        "id": "MPyMA4E2qQJV",
        "outputId": "114412f6-2302-40fd-affe-34d71521a509"
      },
      "execution_count": null,
      "outputs": [
        {
          "output_type": "stream",
          "name": "stdout",
          "text": [
            "Testing accuracy = 0.41037260825780464\n"
          ]
        }
      ]
    },
    {
      "cell_type": "markdown",
      "source": [
        "### 2. Hierarchical clustering"
      ],
      "metadata": {
        "id": "0gdwna37Lf5G"
      }
    },
    {
      "cell_type": "markdown",
      "source": [
        "#### 1. Model ftting"
      ],
      "metadata": {
        "id": "2IYvZTTgVwJH"
      }
    },
    {
      "cell_type": "code",
      "source": [
        "predicted_train_hc = AgglomerativeClustering(n_clusters=len(labels), \n",
        "                                             affinity=\"cosine\", linkage=\"average\").fit_predict(tfidvec_train.toarray())\n",
        "label_order_hc, acc_train_hc = label_permute(train_y, predicted_train_hc, labels)\n",
        "print(f\"Label order = {label_order_hc}\")\n",
        "print(f\"Training accuracy = {acc_train_hc}\")"
      ],
      "metadata": {
        "colab": {
          "base_uri": "https://localhost:8080/"
        },
        "id": "mI9zx_Ley1o6",
        "outputId": "8ec544be-43d0-4f37-ec72-056ef0bc32fe"
      },
      "execution_count": null,
      "outputs": [
        {
          "output_type": "stream",
          "name": "stdout",
          "text": [
            "Label order = (1, 4, 0, 2, 5, 3)\n",
            "Training accuracy = 0.3815590585186785\n"
          ]
        }
      ]
    },
    {
      "cell_type": "markdown",
      "source": [
        "#### 2. Attempt to improve performance with PCA"
      ],
      "metadata": {
        "id": "0iynQYOxV0t5"
      }
    },
    {
      "cell_type": "markdown",
      "source": [
        "Similar to k-means clustering, hierarchical clustering also suffers from the curse of dimensionality. Let's see if PCA helps."
      ],
      "metadata": {
        "id": "hTqS7nDSV5Pz"
      }
    },
    {
      "cell_type": "code",
      "source": [
        "predicted_train_hc_pca = AgglomerativeClustering(n_clusters=len(labels), \n",
        "                                                 affinity=\"cosine\", linkage=\"average\").fit_predict(tfidvec_train_pca)\n",
        "label_order_hc_pca, acc_train_hc_pca = label_permute(train_y, predicted_train_hc_pca, labels)\n",
        "print(f\"Label order = {label_order_hc_pca}\")\n",
        "print(f\"Training accuracy = {acc_train_hc_pca}\")"
      ],
      "metadata": {
        "colab": {
          "base_uri": "https://localhost:8080/"
        },
        "id": "nrQ9CfbrD_gC",
        "outputId": "e6dc8656-a935-4ad0-ac23-428a8e0088d5"
      },
      "execution_count": null,
      "outputs": [
        {
          "output_type": "stream",
          "name": "stdout",
          "text": [
            "Label order = (3, 1, 4, 5, 2, 0)\n",
            "Training accuracy = 0.5884258259555172\n"
          ]
        }
      ]
    },
    {
      "cell_type": "markdown",
      "source": [
        "With PCA, the accuracy increased significantly. But still it is not very satisfying."
      ],
      "metadata": {
        "id": "xJNsUX9kWMhW"
      }
    },
    {
      "cell_type": "markdown",
      "source": [
        "Validation with test set will not be done for hierarchical clustering. As the model does not partition the input space, we cannot apply the trained model on a new set of data."
      ],
      "metadata": {
        "id": "eicOFO43btlt"
      }
    },
    {
      "cell_type": "markdown",
      "source": [
        "### 3. NMF"
      ],
      "metadata": {
        "id": "kU8fD_uPcrVn"
      }
    },
    {
      "cell_type": "markdown",
      "source": [
        "#### 1. Model fitting"
      ],
      "metadata": {
        "id": "KMv4YmBKoqF7"
      }
    },
    {
      "cell_type": "code",
      "source": [
        "nmf = NMF(n_components=len(labels), random_state=100)\n",
        "predicted_train_nmf = np.argmax(nmf.fit_transform(tfidvec_train), axis=1)\n",
        "label_order_nmf, acc_train_nmf = label_permute(train_y, predicted_train_nmf, labels)\n",
        "print(f\"Label order = {label_order_nmf}\")\n",
        "print(f\"Training accuracy = {acc_train_nmf}\")"
      ],
      "metadata": {
        "colab": {
          "base_uri": "https://localhost:8080/"
        },
        "id": "sj32WVwQb2Cg",
        "outputId": "729b525d-55e7-4e4b-cb21-3b15e1b1ccea"
      },
      "execution_count": null,
      "outputs": [
        {
          "output_type": "stream",
          "name": "stderr",
          "text": [
            "/usr/local/lib/python3.8/dist-packages/sklearn/decomposition/_nmf.py:289: FutureWarning: The 'init' value, when 'init=None' and n_components is less than n_samples and n_features, will be changed from 'nndsvd' to 'nndsvda' in 1.1 (renaming of 0.26).\n",
            "  warnings.warn(\n"
          ]
        },
        {
          "output_type": "stream",
          "name": "stdout",
          "text": [
            "Label order = (3, 0, 2, 1, 4, 5)\n",
            "Training accuracy = 0.5696393867415245\n"
          ]
        }
      ]
    },
    {
      "cell_type": "markdown",
      "source": [
        "#### 2. Hyperparameter tuning"
      ],
      "metadata": {
        "id": "UK5h_H5wl99D"
      }
    },
    {
      "cell_type": "markdown",
      "source": [
        "After trying with different combinations of `init`, `solver`, and `beta_loss`, below setting gives the highest accuracy."
      ],
      "metadata": {
        "id": "OtAuYfKQacwA"
      }
    },
    {
      "cell_type": "code",
      "source": [
        "nmf = NMF(n_components=len(labels),\n",
        "          init=\"nndsvda\",\n",
        "          solver=\"mu\",\n",
        "          beta_loss=\"kullback-leibler\",\n",
        "          random_state=100)\n",
        "predicted_train_nmf = np.argmax(nmf.fit_transform(tfidvec_train), axis=1)\n",
        "label_order_nmf, acc_train_nmf = label_permute(train_y, predicted_train_nmf, labels)\n",
        "print(f\"Label order = {label_order_nmf}\")\n",
        "print(f\"Training accuracy = {acc_train_nmf}\")"
      ],
      "metadata": {
        "colab": {
          "base_uri": "https://localhost:8080/"
        },
        "id": "dripsZTSmDd5",
        "outputId": "99d794fe-242f-49fd-d867-5b872f4fdef5"
      },
      "execution_count": null,
      "outputs": [
        {
          "output_type": "stream",
          "name": "stdout",
          "text": [
            "Label order = (3, 0, 2, 1, 4, 5)\n",
            "Training accuracy = 0.6806305333621248\n"
          ]
        }
      ]
    },
    {
      "cell_type": "markdown",
      "source": [
        "#### 3. Validation with test set"
      ],
      "metadata": {
        "id": "W_GqHFNN2xVd"
      }
    },
    {
      "cell_type": "code",
      "source": [
        "predicted_test_nmf = pd.DataFrame(np.argmax(nmf.transform(tfidvec_test), axis=1)).replace(label_order_nmf, labels)\n",
        "print(f\"Testing accuracy = {accuracy_score(test_y, predicted_test_nmf)}\")"
      ],
      "metadata": {
        "colab": {
          "base_uri": "https://localhost:8080/"
        },
        "id": "mmHoGJ0n2z6X",
        "outputId": "d21793ba-8daa-4feb-c6de-19d119e03960"
      },
      "execution_count": null,
      "outputs": [
        {
          "output_type": "stream",
          "name": "stdout",
          "text": [
            "Testing accuracy = 0.6576032225579054\n"
          ]
        }
      ]
    },
    {
      "cell_type": "markdown",
      "source": [
        "NMF gives the highest accuracy among the models (although the result is not very satisfying)."
      ],
      "metadata": {
        "id": "Yi7Zgwi3i6mV"
      }
    },
    {
      "cell_type": "markdown",
      "source": [
        "### 4. Random forest"
      ],
      "metadata": {
        "id": "bg8bk2fSoE34"
      }
    },
    {
      "cell_type": "markdown",
      "source": [
        "As a reference, let's fit a random forest model and see how it performs."
      ],
      "metadata": {
        "id": "_7HAEz_IkH01"
      }
    },
    {
      "cell_type": "code",
      "source": [
        "rf_clf = RandomForestClassifier(random_state=100)\n",
        "rf_clf.fit(tfidvec_train, train_y)\n",
        "print(f\"Training accuracy = {accuracy_score(train_y, rf_clf.predict(tfidvec_train))}\")\n",
        "print(f\"Testing accuracy = {accuracy_score(test_y, rf_clf.predict(tfidvec_test))}\")"
      ],
      "metadata": {
        "colab": {
          "base_uri": "https://localhost:8080/"
        },
        "id": "YeALwmvaocV2",
        "outputId": "45bd3054-9aab-49cc-b9fd-f5567f81c144"
      },
      "execution_count": null,
      "outputs": [
        {
          "output_type": "stream",
          "name": "stdout",
          "text": [
            "Training accuracy = 1.0\n",
            "Testing accuracy = 0.8041289023162135\n"
          ]
        }
      ]
    },
    {
      "cell_type": "markdown",
      "source": [
        "The accuracy is higher than all the above unsupervised models."
      ],
      "metadata": {
        "id": "7TjDkC5hkQln"
      }
    },
    {
      "cell_type": "markdown",
      "source": [
        "## 5. Analysis and discussion"
      ],
      "metadata": {
        "id": "2S_pMwdrkf-I"
      }
    },
    {
      "cell_type": "markdown",
      "source": [
        "Among the unsupervised models being applied, NMF performs the best. In this section, I will analyze and discuss about the result based on the NMF model."
      ],
      "metadata": {
        "id": "K90s1BteDS2X"
      }
    },
    {
      "cell_type": "markdown",
      "source": [
        "### 1. Accuracy per category"
      ],
      "metadata": {
        "id": "2HuoJtTLshcn"
      }
    },
    {
      "cell_type": "code",
      "source": [
        "df_train = pd.DataFrame(train_x, columns=[\"clean_text\"])\n",
        "df_train[\"category\"] = train_y\n",
        "df_train[\"predicted_i\"] = predicted_train_nmf\n",
        "df_train[\"predicted\"] = df_train[\"predicted_i\"].replace(label_order_nmf, labels)\n",
        "\n",
        "count = df_train.groupby(\"category\")[\"category\"].count()\n",
        "acc =  df_train[df_train[\"category\"] == df_train[\"predicted\"]].groupby(\"category\")[\"category\"].count()\n",
        "\n",
        "ax = (acc/count).plot(kind=\"bar\", title=\"Accuracy per category\", figsize=(10, 7))\n",
        "ax.bar_label(ax.containers[0])"
      ],
      "metadata": {
        "id": "xhNBKn6Cckry",
        "colab": {
          "base_uri": "https://localhost:8080/",
          "height": 628
        },
        "outputId": "113b8a71-ef3f-4342-c14c-7b83a4ffbcb2"
      },
      "execution_count": null,
      "outputs": [
        {
          "output_type": "execute_result",
          "data": {
            "text/plain": [
              "[Text(0, 0, '0.444322'),\n",
              " Text(0, 0, '0.454171'),\n",
              " Text(0, 0, '0.88172'),\n",
              " Text(0, 0, '0.815068'),\n",
              " Text(0, 0, '0.932749'),\n",
              " Text(0, 0, '0.703704')]"
            ]
          },
          "metadata": {},
          "execution_count": 49
        },
        {
          "output_type": "display_data",
          "data": {
            "text/plain": [
              "<Figure size 720x504 with 1 Axes>"
            ],
            "image/png": "[encoded data removed]"
          },
          "metadata": {
            "needs_background": "light"
          }
        }
      ]
    },
    {
      "cell_type": "markdown",
      "source": [
        "Accuracy of domestic and business news is the lowest among the categories. Let's see the categories which they were being misclassified to."
      ],
      "metadata": {
        "id": "XxMMrv0s19Wm"
      }
    },
    {
      "cell_type": "code",
      "source": [
        "wrong = df_train[df_train[\"category\"] != df_train[\"predicted\"]]\n",
        "wrong[wrong[\"category\"] == \"domestic\"].groupby(\"predicted\")[\"predicted\"].count().plot(kind=\"bar\", \n",
        "                                                                                      title=\"Domestic misclassified as\",\n",
        "                                                                                      figsize=(10, 7))"
      ],
      "metadata": {
        "colab": {
          "base_uri": "https://localhost:8080/",
          "height": 538
        },
        "id": "Qje0mM4yy3o6",
        "outputId": "e4567f96-82b2-4332-c241-018662857415"
      },
      "execution_count": null,
      "outputs": [
        {
          "output_type": "execute_result",
          "data": {
            "text/plain": [
              "<AxesSubplot:title={'center':'Domestic misclassified as'}, xlabel='predicted'>"
            ]
          },
          "metadata": {},
          "execution_count": 50
        },
        {
          "output_type": "display_data",
          "data": {
            "text/plain": [
              "<Figure size 720x504 with 1 Axes>"
            ],
            "image/png": "[encoded data removed]"
          },
          "metadata": {
            "needs_background": "light"
          }
        }
      ]
    },
    {
      "cell_type": "code",
      "source": [
        "wrong[wrong[\"category\"] == \"business\"].groupby(\"predicted\")[\"predicted\"].count().plot(kind=\"bar\", \n",
        "                                                                                      title=\"Business misclassified as\", \n",
        "                                                                                      figsize=(10, 7))"
      ],
      "metadata": {
        "colab": {
          "base_uri": "https://localhost:8080/",
          "height": 538
        },
        "id": "kD-pmaNYDqNF",
        "outputId": "cf5d2dd6-040f-4251-9b2c-072579235fa4"
      },
      "execution_count": null,
      "outputs": [
        {
          "output_type": "execute_result",
          "data": {
            "text/plain": [
              "<AxesSubplot:title={'center':'Business misclassified as'}, xlabel='predicted'>"
            ]
          },
          "metadata": {},
          "execution_count": 51
        },
        {
          "output_type": "display_data",
          "data": {
            "text/plain": [
              "<Figure size 720x504 with 1 Axes>"
            ],
            "image/png": "[encoded data removed]"
          },
          "metadata": {
            "needs_background": "light"
          }
        }
      ]
    },
    {
      "cell_type": "markdown",
      "source": [
        "### 2. Popular keywords of each category"
      ],
      "metadata": {
        "id": "uuVEg4fWtq5K"
      }
    },
    {
      "cell_type": "code",
      "source": [
        "components_df = pd.DataFrame(nmf.components_, columns=tfidvec.get_feature_names())\n",
        "for topic in range(components_df.shape[0]):\n",
        "  tmp = components_df.iloc[topic]\n",
        "  print(f\"{labels[label_order_nmf.index(topic)]}:\")\n",
        "  print(tmp.nlargest(10))\n",
        "  print(\"\\n\")"
      ],
      "metadata": {
        "colab": {
          "base_uri": "https://localhost:8080/"
        },
        "id": "MXgOg_p0bIaV",
        "outputId": "d6776323-00bc-4cae-8dac-ae2dbc80698c"
      },
      "execution_count": null,
      "outputs": [
        {
          "output_type": "stream",
          "name": "stdout",
          "text": [
            "world:\n",
            "ウクライナ    1.579518\n",
            "ロシア      1.375286\n",
            "中国       0.659174\n",
            "侵攻       0.623130\n",
            "戦争       0.446035\n",
            "支援       0.373753\n",
            "日本       0.336134\n",
            "大統領      0.331603\n",
            "米国       0.304519\n",
            "北朝鮮      0.303627\n",
            "Name: 0, dtype: float64\n",
            "\n",
            "\n",
            "entertainment:\n",
            "思う           0.505253\n",
            "出演           0.319694\n",
            "instagram    0.302822\n",
            "作品           0.293889\n",
            "言う           0.279575\n",
            "公開           0.269141\n",
            "見る           0.268199\n",
            "放送           0.260066\n",
            "映画           0.240969\n",
            "投稿           0.238162\n",
            "Name: 1, dtype: float64\n",
            "\n",
            "\n",
            "business:\n",
            "上昇     0.341787\n",
            "総裁     0.338895\n",
            "企業     0.304468\n",
            "ドル     0.282347\n",
            "日銀     0.255262\n",
            "候補     0.251879\n",
            "政府     0.249363\n",
            "述べる    0.234457\n",
            "必要     0.229205\n",
            "示す     0.227927\n",
            "Name: 2, dtype: float64\n",
            "\n",
            "\n",
            "domestic:\n",
            "容疑者    0.616875\n",
            "逮捕     0.476531\n",
            "男性     0.460641\n",
            "警察     0.377686\n",
            "事件     0.377387\n",
            "疑い     0.353498\n",
            "容疑     0.335808\n",
            "女性     0.325411\n",
            "死亡     0.323637\n",
            "警視庁    0.307086\n",
            "Name: 3, dtype: float64\n",
            "\n",
            "\n",
            "sports:\n",
            "試合       0.639727\n",
            "選手       0.589457\n",
            "投手       0.404277\n",
            "チーム      0.398563\n",
            "思う       0.325689\n",
            "出場       0.324579\n",
            "侍ジャパン    0.296915\n",
            "優勝       0.288854\n",
            "大会       0.284788\n",
            "勝利       0.281751\n",
            "Name: 4, dtype: float64\n",
            "\n",
            "\n",
            "it:\n",
            "機能     0.392150\n",
            "モデル    0.364928\n",
            "ai     0.318194\n",
            "利用     0.315293\n",
            "販売     0.307752\n",
            "可能     0.266670\n",
            "mm     0.265351\n",
            "発売     0.260448\n",
            "搭載     0.258504\n",
            "開発     0.258426\n",
            "Name: 5, dtype: float64\n",
            "\n",
            "\n"
          ]
        },
        {
          "output_type": "stream",
          "name": "stderr",
          "text": [
            "/usr/local/lib/python3.8/dist-packages/sklearn/utils/deprecation.py:87: FutureWarning: Function get_feature_names is deprecated; get_feature_names is deprecated in 1.0 and will be removed in 1.2. Please use get_feature_names_out instead.\n",
            "  warnings.warn(msg, category=FutureWarning)\n"
          ]
        }
      ]
    },
    {
      "cell_type": "markdown",
      "source": [
        "| Domestic |  | Business |  | World |  |\n",
        "| :- | :- | :- | :- | :- | :- |\n",
        "| 容疑者 | suspect | 上昇 | raise | ウクライナ | Ukraine\n",
        "| 逮捕 | arrest | 総裁 | president (of an organization) | ロシア | Russia\n",
        "| 男性 | male | 企業 | corporation | 中国 | China\n",
        "| 警察 | police | ドル | dollar | 侵攻 | invasion\n",
        "| 事件 | case | 日銀 | Bank of Japan | 戦争 | war\n",
        "| 疑い | suspicion | 候補 | candidate | 支援 | support\n",
        "| 容疑 | suspicion | 政府 | government | 日本 | Japan\n",
        "| 女性 | female | 述べる | state | 大統領 | President (of a country)\n",
        "| 死亡 | death | 必要 | necessarily | 米国 | America\n",
        "| 警視庁 | Metropolitan Police Department | 示す | demonstrate | 北朝鮮 | North Korea\n",
        "\n"
      ],
      "metadata": {
        "id": "EG93cvqiIJN9"
      }
    },
    {
      "cell_type": "markdown",
      "source": [
        "| Entertainment |  | Sports |  | IT |  |\n",
        "| :- | :- | :- | :- | :- | :- |\n",
        "| 思う | think | 試合 | match | 機能 | function\n",
        "| 出演 | perform | 選手 | player | モデル | model\n",
        "| instagram |  | 投手 | pitcher | ai | \n",
        "| 作品 | a (piece of) work | チーム | team | 利用 | application\n",
        "| 言う | speak | 思う | think | 販売 | selling\n",
        "| 公開 | release | 出場 | entry | 可能 | able\n",
        "| 見る | look/see/watch | 侍ジャパン | Samurai Japan | mm | \n",
        "| 放送 | broadcast | 優勝 | victory | 発売 | sale\n",
        "| 映画 | movie | 大会 | tournament | 搭載 | installation\n",
        "| 投稿 | a contribution | 勝利 | victory | 開発 | development\n"
      ],
      "metadata": {
        "id": "F33PL0cJMDGF"
      }
    },
    {
      "cell_type": "markdown",
      "source": [
        "### 3. Discussion and potential ways for improvement"
      ],
      "metadata": {
        "id": "75e44JrzPQiy"
      }
    },
    {
      "cell_type": "markdown",
      "source": [
        "1. Among the unsupervised models being applied, NMF performs the best. One of the reasons could be the curse of dimensionality, which affects distance based algorithms like k-means clustering and hierarchical clustering. "
      ],
      "metadata": {
        "id": "xteKIkGOelZ0"
      }
    },
    {
      "cell_type": "markdown",
      "source": [
        "2. From the categorical breakdown of accuracy, the model has problem of misclassifying domestic news as business/world news, and business news as IT news. One of the reasons is because of the nature of the dataset - for some of the news, it is natural to classify them into both categories. For example, news about monetary policy can be classified as both domestic news and business news. "
      ],
      "metadata": {
        "id": "tj2LFCnRoCay"
      }
    },
    {
      "cell_type": "markdown",
      "source": [
        "3. From the top keyword list, there may be data imbalance in some categories in the raw dataset. For example, many of the keywords in the domestic category are related to criminal cases, which is not very ideal given the large variety of domestic news. Data imbalance is one of the reasons for higher performance of random forest, as tree-based algorithms often perform better on imbalanced datasets. Collecting data across a longer period and resampling can potentially help."
      ],
      "metadata": {
        "id": "sqljmBk-uIUM"
      }
    },
    {
      "cell_type": "markdown",
      "source": [
        "4. There are many ways to perform word embedding. TF-IDF is a relatively simple method. It only consider the frequency of individual word, without accounting for the relationships between the words nearby. Using more advianced methods like word2vec and BERT may provide a better result."
      ],
      "metadata": {
        "id": "xCUADufjZFqP"
      }
    },
    {
      "cell_type": "markdown",
      "source": [
        "5. More time and effort is needed on data cleaning in order to produce a dataset with higher quality."
      ],
      "metadata": {
        "id": "szwaXgkGijpD"
      }
    },
    {
      "cell_type": "markdown",
      "source": [
        "### 4. Conclusion"
      ],
      "metadata": {
        "id": "UqX1EzcsKnXk"
      }
    },
    {
      "cell_type": "markdown",
      "source": [
        "| Model | Training accuracy | Testing accuracy |\n",
        "| :-: | :-: | :-: |\n",
        "| Mini-batch k-means clustering | 0.4593 | 0.4512 |\n",
        "| Mini-batch k-means clustering + PCA | 0.4010 | 0.4104 |\n",
        "| Hierarchical clustering | 0.3816 | NA |\n",
        "| Hierarchical clustering + PCA | 0.5884 | NA |\n",
        "| Non-negative matrix factorization | 0.6806 | 0.6576 |\n",
        "| Random forest | 1.0000 | 0.8041 |"
      ],
      "metadata": {
        "id": "BI8EjQXCSxFH"
      }
    },
    {
      "cell_type": "markdown",
      "source": [
        "Among the unsupervised algorithms being tested, NMF performs the best. In terms of accuracy, the result is not very satisfied, but some potential ways for improvements have been identified. "
      ],
      "metadata": {
        "id": "irkpPRWSqwPK"
      }
    },
    {
      "cell_type": "markdown",
      "source": [
        "## References"
      ],
      "metadata": {
        "id": "EcZxRd3s4m2E"
      }
    },
    {
      "cell_type": "markdown",
      "source": [
        "【自然言語処理】形態素解析のためのトークナイザー（関数）を作る\n",
        "https://zenn.dev/robes/articles/95a284323eba9b"
      ],
      "metadata": {
        "id": "hcIIkvhD4vVm"
      }
    }
  ]
}